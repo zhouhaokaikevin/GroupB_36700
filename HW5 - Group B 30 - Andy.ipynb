{
 "cells": [
  {
   "cell_type": "code",
   "execution_count": 1,
   "id": "2e367bf8",
   "metadata": {},
   "outputs": [],
   "source": [
    "import numpy as np\n",
    "import pandas as pd\n",
    "import statsmodels.api as sm\n",
    "import seaborn as sns\n",
    "import matplotlib.pyplot as plt\n",
    "from statsmodels.regression.rolling import RollingOLS\n",
    "\n",
    "%matplotlib inline\n",
    "plt.rcParams[\"figure.figsize\"] = [15,6]"
   ]
  },
  {
   "cell_type": "markdown",
   "id": "aa965da5",
   "metadata": {},
   "source": [
    "# 2 The Factors"
   ]
  },
  {
   "cell_type": "code",
   "execution_count": 3,
   "id": "33a3772e",
   "metadata": {},
   "outputs": [
    {
     "data": {
      "text/html": [
       "<div>\n",
       "<style scoped>\n",
       "    .dataframe tbody tr th:only-of-type {\n",
       "        vertical-align: middle;\n",
       "    }\n",
       "\n",
       "    .dataframe tbody tr th {\n",
       "        vertical-align: top;\n",
       "    }\n",
       "\n",
       "    .dataframe thead th {\n",
       "        text-align: right;\n",
       "    }\n",
       "</style>\n",
       "<table border=\"1\" class=\"dataframe\">\n",
       "  <thead>\n",
       "    <tr style=\"text-align: right;\">\n",
       "      <th></th>\n",
       "      <th>MKT</th>\n",
       "      <th>SMB</th>\n",
       "      <th>HML</th>\n",
       "      <th>RMW</th>\n",
       "      <th>CMA</th>\n",
       "      <th>UMD</th>\n",
       "    </tr>\n",
       "    <tr>\n",
       "      <th>Date</th>\n",
       "      <th></th>\n",
       "      <th></th>\n",
       "      <th></th>\n",
       "      <th></th>\n",
       "      <th></th>\n",
       "      <th></th>\n",
       "    </tr>\n",
       "  </thead>\n",
       "  <tbody>\n",
       "    <tr>\n",
       "      <th>2023-03-31</th>\n",
       "      <td>0.0251</td>\n",
       "      <td>-0.0694</td>\n",
       "      <td>-0.0885</td>\n",
       "      <td>0.0224</td>\n",
       "      <td>-0.0237</td>\n",
       "      <td>-0.0249</td>\n",
       "    </tr>\n",
       "    <tr>\n",
       "      <th>2023-04-30</th>\n",
       "      <td>0.0061</td>\n",
       "      <td>-0.0256</td>\n",
       "      <td>-0.0004</td>\n",
       "      <td>0.0242</td>\n",
       "      <td>0.0286</td>\n",
       "      <td>0.0163</td>\n",
       "    </tr>\n",
       "    <tr>\n",
       "      <th>2023-05-31</th>\n",
       "      <td>0.0035</td>\n",
       "      <td>-0.0038</td>\n",
       "      <td>-0.0772</td>\n",
       "      <td>-0.0181</td>\n",
       "      <td>-0.0722</td>\n",
       "      <td>-0.0063</td>\n",
       "    </tr>\n",
       "    <tr>\n",
       "      <th>2023-06-30</th>\n",
       "      <td>0.0646</td>\n",
       "      <td>0.0134</td>\n",
       "      <td>-0.0026</td>\n",
       "      <td>0.0218</td>\n",
       "      <td>-0.0162</td>\n",
       "      <td>-0.0239</td>\n",
       "    </tr>\n",
       "    <tr>\n",
       "      <th>2023-07-31</th>\n",
       "      <td>0.0321</td>\n",
       "      <td>0.0286</td>\n",
       "      <td>0.0413</td>\n",
       "      <td>-0.0056</td>\n",
       "      <td>0.0062</td>\n",
       "      <td>-0.0406</td>\n",
       "    </tr>\n",
       "  </tbody>\n",
       "</table>\n",
       "</div>"
      ],
      "text/plain": [
       "               MKT     SMB     HML     RMW     CMA     UMD\n",
       "Date                                                      \n",
       "2023-03-31  0.0251 -0.0694 -0.0885  0.0224 -0.0237 -0.0249\n",
       "2023-04-30  0.0061 -0.0256 -0.0004  0.0242  0.0286  0.0163\n",
       "2023-05-31  0.0035 -0.0038 -0.0772 -0.0181 -0.0722 -0.0063\n",
       "2023-06-30  0.0646  0.0134 -0.0026  0.0218 -0.0162 -0.0239\n",
       "2023-07-31  0.0321  0.0286  0.0413 -0.0056  0.0062 -0.0406"
      ]
     },
     "execution_count": 3,
     "metadata": {},
     "output_type": "execute_result"
    }
   ],
   "source": [
    "factors = pd.read_excel('factor_pricing_data.xlsx',sheet_name='factors (excess returns)',index_col='Date')\n",
    "factors.tail()"
   ]
  },
  {
   "cell_type": "markdown",
   "id": "b173065d",
   "metadata": {},
   "source": [
    "## 2.1 \n",
    "### Analyze the factors, similar to how you analyzed the three Fama-French factors in Homework 4. You now have three additional factors, so let’s compare there univariate statistics.<br> • mean <br>• volatility <br> • Sharpe\n"
   ]
  },
  {
   "cell_type": "code",
   "execution_count": 4,
   "id": "3e469890",
   "metadata": {
    "scrolled": true
   },
   "outputs": [],
   "source": [
    "def summaryStats(df):\n",
    "    \n",
    "    summary = pd.DataFrame(index = df.columns)\n",
    "    \n",
    "    summary['Mean'] = df.mean()*12\n",
    "    summary['Volatility'] = df.std()*np.sqrt(12)\n",
    "    summary['Sharpe Ratio'] = summary['Mean']/summary['Volatility']    \n",
    "        \n",
    "    return summary"
   ]
  },
  {
   "cell_type": "markdown",
   "id": "686b5f6c",
   "metadata": {},
   "source": [
    "#### Beginning - 1980"
   ]
  },
  {
   "cell_type": "code",
   "execution_count": 5,
   "id": "afc1bbc5",
   "metadata": {},
   "outputs": [
    {
     "data": {
      "text/html": [
       "<div>\n",
       "<style scoped>\n",
       "    .dataframe tbody tr th:only-of-type {\n",
       "        vertical-align: middle;\n",
       "    }\n",
       "\n",
       "    .dataframe tbody tr th {\n",
       "        vertical-align: top;\n",
       "    }\n",
       "\n",
       "    .dataframe thead th {\n",
       "        text-align: right;\n",
       "    }\n",
       "</style>\n",
       "<table border=\"1\" class=\"dataframe\">\n",
       "  <thead>\n",
       "    <tr style=\"text-align: right;\">\n",
       "      <th></th>\n",
       "      <th>Mean</th>\n",
       "      <th>Volatility</th>\n",
       "      <th>Sharpe Ratio</th>\n",
       "    </tr>\n",
       "  </thead>\n",
       "  <tbody>\n",
       "    <tr>\n",
       "      <th>MKT</th>\n",
       "      <td>0.2029</td>\n",
       "      <td>0.203717</td>\n",
       "      <td>0.995990</td>\n",
       "    </tr>\n",
       "    <tr>\n",
       "      <th>SMB</th>\n",
       "      <td>0.0537</td>\n",
       "      <td>0.108821</td>\n",
       "      <td>0.493472</td>\n",
       "    </tr>\n",
       "    <tr>\n",
       "      <th>HML</th>\n",
       "      <td>-0.1987</td>\n",
       "      <td>0.117754</td>\n",
       "      <td>-1.687412</td>\n",
       "    </tr>\n",
       "    <tr>\n",
       "      <th>RMW</th>\n",
       "      <td>0.1078</td>\n",
       "      <td>0.073037</td>\n",
       "      <td>1.475957</td>\n",
       "    </tr>\n",
       "    <tr>\n",
       "      <th>CMA</th>\n",
       "      <td>-0.0977</td>\n",
       "      <td>0.076936</td>\n",
       "      <td>-1.269882</td>\n",
       "    </tr>\n",
       "    <tr>\n",
       "      <th>UMD</th>\n",
       "      <td>0.3078</td>\n",
       "      <td>0.234594</td>\n",
       "      <td>1.312054</td>\n",
       "    </tr>\n",
       "  </tbody>\n",
       "</table>\n",
       "</div>"
      ],
      "text/plain": [
       "       Mean  Volatility  Sharpe Ratio\n",
       "MKT  0.2029    0.203717      0.995990\n",
       "SMB  0.0537    0.108821      0.493472\n",
       "HML -0.1987    0.117754     -1.687412\n",
       "RMW  0.1078    0.073037      1.475957\n",
       "CMA -0.0977    0.076936     -1.269882\n",
       "UMD  0.3078    0.234594      1.312054"
      ]
     },
     "execution_count": 5,
     "metadata": {},
     "output_type": "execute_result"
    }
   ],
   "source": [
    "summaryStats(factors[:'1980'])"
   ]
  },
  {
   "cell_type": "markdown",
   "id": "e663ec19",
   "metadata": {},
   "source": [
    "#### 1981 - 2001"
   ]
  },
  {
   "cell_type": "code",
   "execution_count": 6,
   "id": "55a3de62",
   "metadata": {},
   "outputs": [
    {
     "data": {
      "text/html": [
       "<div>\n",
       "<style scoped>\n",
       "    .dataframe tbody tr th:only-of-type {\n",
       "        vertical-align: middle;\n",
       "    }\n",
       "\n",
       "    .dataframe tbody tr th {\n",
       "        vertical-align: top;\n",
       "    }\n",
       "\n",
       "    .dataframe thead th {\n",
       "        text-align: right;\n",
       "    }\n",
       "</style>\n",
       "<table border=\"1\" class=\"dataframe\">\n",
       "  <thead>\n",
       "    <tr style=\"text-align: right;\">\n",
       "      <th></th>\n",
       "      <th>Mean</th>\n",
       "      <th>Volatility</th>\n",
       "      <th>Sharpe Ratio</th>\n",
       "    </tr>\n",
       "  </thead>\n",
       "  <tbody>\n",
       "    <tr>\n",
       "      <th>MKT</th>\n",
       "      <td>0.077257</td>\n",
       "      <td>0.157396</td>\n",
       "      <td>0.490847</td>\n",
       "    </tr>\n",
       "    <tr>\n",
       "      <th>SMB</th>\n",
       "      <td>0.001429</td>\n",
       "      <td>0.109605</td>\n",
       "      <td>0.013034</td>\n",
       "    </tr>\n",
       "    <tr>\n",
       "      <th>HML</th>\n",
       "      <td>0.063776</td>\n",
       "      <td>0.111183</td>\n",
       "      <td>0.573612</td>\n",
       "    </tr>\n",
       "    <tr>\n",
       "      <th>RMW</th>\n",
       "      <td>0.046914</td>\n",
       "      <td>0.091606</td>\n",
       "      <td>0.512130</td>\n",
       "    </tr>\n",
       "    <tr>\n",
       "      <th>CMA</th>\n",
       "      <td>0.053157</td>\n",
       "      <td>0.077355</td>\n",
       "      <td>0.687185</td>\n",
       "    </tr>\n",
       "    <tr>\n",
       "      <th>UMD</th>\n",
       "      <td>0.101686</td>\n",
       "      <td>0.145105</td>\n",
       "      <td>0.700775</td>\n",
       "    </tr>\n",
       "  </tbody>\n",
       "</table>\n",
       "</div>"
      ],
      "text/plain": [
       "         Mean  Volatility  Sharpe Ratio\n",
       "MKT  0.077257    0.157396      0.490847\n",
       "SMB  0.001429    0.109605      0.013034\n",
       "HML  0.063776    0.111183      0.573612\n",
       "RMW  0.046914    0.091606      0.512130\n",
       "CMA  0.053157    0.077355      0.687185\n",
       "UMD  0.101686    0.145105      0.700775"
      ]
     },
     "execution_count": 6,
     "metadata": {},
     "output_type": "execute_result"
    }
   ],
   "source": [
    "summaryStats(factors['1981':'2001'])"
   ]
  },
  {
   "cell_type": "markdown",
   "id": "127afed1",
   "metadata": {},
   "source": [
    "#### 2002 - End"
   ]
  },
  {
   "cell_type": "code",
   "execution_count": 7,
   "id": "d1905226",
   "metadata": {},
   "outputs": [
    {
     "data": {
      "text/html": [
       "<div>\n",
       "<style scoped>\n",
       "    .dataframe tbody tr th:only-of-type {\n",
       "        vertical-align: middle;\n",
       "    }\n",
       "\n",
       "    .dataframe tbody tr th {\n",
       "        vertical-align: top;\n",
       "    }\n",
       "\n",
       "    .dataframe thead th {\n",
       "        text-align: right;\n",
       "    }\n",
       "</style>\n",
       "<table border=\"1\" class=\"dataframe\">\n",
       "  <thead>\n",
       "    <tr style=\"text-align: right;\">\n",
       "      <th></th>\n",
       "      <th>Mean</th>\n",
       "      <th>Volatility</th>\n",
       "      <th>Sharpe Ratio</th>\n",
       "    </tr>\n",
       "  </thead>\n",
       "  <tbody>\n",
       "    <tr>\n",
       "      <th>MKT</th>\n",
       "      <td>0.086187</td>\n",
       "      <td>0.155313</td>\n",
       "      <td>0.554923</td>\n",
       "    </tr>\n",
       "    <tr>\n",
       "      <th>SMB</th>\n",
       "      <td>0.018751</td>\n",
       "      <td>0.090739</td>\n",
       "      <td>0.206642</td>\n",
       "    </tr>\n",
       "    <tr>\n",
       "      <th>HML</th>\n",
       "      <td>-0.001710</td>\n",
       "      <td>0.107517</td>\n",
       "      <td>-0.015901</td>\n",
       "    </tr>\n",
       "    <tr>\n",
       "      <th>RMW</th>\n",
       "      <td>0.043307</td>\n",
       "      <td>0.075282</td>\n",
       "      <td>0.575261</td>\n",
       "    </tr>\n",
       "    <tr>\n",
       "      <th>CMA</th>\n",
       "      <td>0.018417</td>\n",
       "      <td>0.068581</td>\n",
       "      <td>0.268543</td>\n",
       "    </tr>\n",
       "    <tr>\n",
       "      <th>UMD</th>\n",
       "      <td>0.009827</td>\n",
       "      <td>0.159709</td>\n",
       "      <td>0.061531</td>\n",
       "    </tr>\n",
       "  </tbody>\n",
       "</table>\n",
       "</div>"
      ],
      "text/plain": [
       "         Mean  Volatility  Sharpe Ratio\n",
       "MKT  0.086187    0.155313      0.554923\n",
       "SMB  0.018751    0.090739      0.206642\n",
       "HML -0.001710    0.107517     -0.015901\n",
       "RMW  0.043307    0.075282      0.575261\n",
       "CMA  0.018417    0.068581      0.268543\n",
       "UMD  0.009827    0.159709      0.061531"
      ]
     },
     "execution_count": 7,
     "metadata": {},
     "output_type": "execute_result"
    }
   ],
   "source": [
    "summaryStats(factors['2002':])"
   ]
  },
  {
   "cell_type": "markdown",
   "id": "711b3490",
   "metadata": {},
   "source": [
    "## 2.2\n",
    "### Based on the factor statistics above, answer the following. <br><br> (a) Does each factor have a positive risk premium (positive expected excess return)?"
   ]
  },
  {
   "cell_type": "markdown",
   "id": "dbbe20df",
   "metadata": {},
   "source": [
    "- Prior to 1981, only two factors (`HML` and `CMA`) had negative risk premia.\n",
    "- After 1981, all the factors, except `HML` since 2002, have positive risk premia."
   ]
  },
  {
   "cell_type": "markdown",
   "id": "be29fb2e",
   "metadata": {},
   "source": [
    "### (b) How have the factors performed since the time of the case, (2015-present)?\n"
   ]
  },
  {
   "cell_type": "code",
   "execution_count": 8,
   "id": "1f380f0e",
   "metadata": {},
   "outputs": [
    {
     "data": {
      "text/html": [
       "<div>\n",
       "<style scoped>\n",
       "    .dataframe tbody tr th:only-of-type {\n",
       "        vertical-align: middle;\n",
       "    }\n",
       "\n",
       "    .dataframe tbody tr th {\n",
       "        vertical-align: top;\n",
       "    }\n",
       "\n",
       "    .dataframe thead th {\n",
       "        text-align: right;\n",
       "    }\n",
       "</style>\n",
       "<table border=\"1\" class=\"dataframe\">\n",
       "  <thead>\n",
       "    <tr style=\"text-align: right;\">\n",
       "      <th></th>\n",
       "      <th>Mean</th>\n",
       "      <th>Volatility</th>\n",
       "      <th>Sharpe Ratio</th>\n",
       "    </tr>\n",
       "  </thead>\n",
       "  <tbody>\n",
       "    <tr>\n",
       "      <th>MKT</th>\n",
       "      <td>0.111705</td>\n",
       "      <td>0.162705</td>\n",
       "      <td>0.686549</td>\n",
       "    </tr>\n",
       "    <tr>\n",
       "      <th>SMB</th>\n",
       "      <td>-0.008377</td>\n",
       "      <td>0.098268</td>\n",
       "      <td>-0.085244</td>\n",
       "    </tr>\n",
       "    <tr>\n",
       "      <th>HML</th>\n",
       "      <td>-0.025817</td>\n",
       "      <td>0.135825</td>\n",
       "      <td>-0.190080</td>\n",
       "    </tr>\n",
       "    <tr>\n",
       "      <th>RMW</th>\n",
       "      <td>0.048594</td>\n",
       "      <td>0.073131</td>\n",
       "      <td>0.664483</td>\n",
       "    </tr>\n",
       "    <tr>\n",
       "      <th>CMA</th>\n",
       "      <td>0.001794</td>\n",
       "      <td>0.086965</td>\n",
       "      <td>0.020631</td>\n",
       "    </tr>\n",
       "    <tr>\n",
       "      <th>UMD</th>\n",
       "      <td>0.006501</td>\n",
       "      <td>0.144006</td>\n",
       "      <td>0.045144</td>\n",
       "    </tr>\n",
       "  </tbody>\n",
       "</table>\n",
       "</div>"
      ],
      "text/plain": [
       "         Mean  Volatility  Sharpe Ratio\n",
       "MKT  0.111705    0.162705      0.686549\n",
       "SMB -0.008377    0.098268     -0.085244\n",
       "HML -0.025817    0.135825     -0.190080\n",
       "RMW  0.048594    0.073131      0.664483\n",
       "CMA  0.001794    0.086965      0.020631\n",
       "UMD  0.006501    0.144006      0.045144"
      ]
     },
     "execution_count": 8,
     "metadata": {},
     "output_type": "execute_result"
    }
   ],
   "source": [
    "summaryStats(factors['2015':])"
   ]
  },
  {
   "cell_type": "markdown",
   "id": "615239f8",
   "metadata": {},
   "source": [
    "- The market factor `MKT` performs the best (in terms of risk premium and Sharpe ratio) since 2015. The profitability factor `RMW` ranks the second. However, other factors do not have significant positive risk premia and Sharpe ratios."
   ]
  },
  {
   "cell_type": "markdown",
   "id": "f1b42298",
   "metadata": {},
   "source": [
    "## 2.3\n",
    "### Report the correlation matrix across the six factors."
   ]
  },
  {
   "cell_type": "code",
   "execution_count": 9,
   "id": "2bfb615e",
   "metadata": {},
   "outputs": [
    {
     "data": {
      "text/plain": [
       "<Axes: >"
      ]
     },
     "execution_count": 9,
     "metadata": {},
     "output_type": "execute_result"
    },
    {
     "data": {
      "image/png": "[encoded data removed]",
      "text/plain": [
       "<Figure size 1500x600 with 2 Axes>"
      ]
     },
     "metadata": {},
     "output_type": "display_data"
    }
   ],
   "source": [
    "corr = factors.corr()\n",
    "sns.heatmap(corr,annot=True)"
   ]
  },
  {
   "cell_type": "markdown",
   "id": "f08e30c5",
   "metadata": {},
   "source": [
    "### (a) Does the construction method succeed in keeping correlations small?"
   ]
  },
  {
   "cell_type": "markdown",
   "id": "16220751",
   "metadata": {},
   "source": [
    "- In general, the factor correlations are small. However, there are a few factor pairs, such as (`HML`, `CMA`), (`SMB`, `RMW`), (`MKT`, `CMA`), having relatively high absolute correlations."
   ]
  },
  {
   "cell_type": "markdown",
   "id": "57425a8d",
   "metadata": {},
   "source": [
    "### (b) Fama and French say that HML is somewhat redundant in their 5-factor model. Does this seem to be the case?"
   ]
  },
  {
   "cell_type": "markdown",
   "id": "39f87cd0",
   "metadata": {},
   "source": [
    "- The `HML` factor has relatively high absolute correlations with other factors such as `CMA`, `RMW`, `UMD`, and `MKT`, so it is possible that `HML` is somehow redundant in the 5-factor model."
   ]
  },
  {
   "cell_type": "markdown",
   "id": "42a0a51d",
   "metadata": {},
   "source": [
    "## 2.4\n",
    "### Report the tangency weights for a portfolio of these 6 factors."
   ]
  },
  {
   "cell_type": "code",
   "execution_count": 14,
   "id": "be512b04",
   "metadata": {},
   "outputs": [],
   "source": [
    "def computeTangencyPortfolio(df):\n",
    "    \"\"\" Assuming monthly input data and annualized outputs\"\"\"\n",
    "\n",
    "    mean = df.mean()*12\n",
    "    sigma = df.std() * np.sqrt(12)\n",
    "    cov = df.cov()*12\n",
    "    cov_inv = np.linalg.inv(cov)\n",
    "    \n",
    "    w_t = pd.Series(cov_inv@mean,index=mean.index,name=\"TangencyPortfolio\")\n",
    "    w_t = w_t/sum(w_t)\n",
    "    \n",
    "    tangencyMean = w_t@mean\n",
    "    tangencyVol = np.sqrt(w_t.T@cov@w_t)\n",
    "    tangencySharpe = tangencyMean/tangencyVol\n",
    "    \n",
    "    return w_t,tangencyMean,tangencyVol,tangencySharpe\n",
    "\n",
    "tangencyWt,tangencyMean,tangencyVol, tangencySharpe = computeTangencyPortfolio(factors)"
   ]
  },
  {
   "cell_type": "code",
   "execution_count": 15,
   "id": "3dc03118",
   "metadata": {},
   "outputs": [
    {
     "name": "stdout",
     "output_type": "stream",
     "text": [
      "Weights of Tangency Portfolio:\n"
     ]
    },
    {
     "data": {
      "text/html": [
       "<div>\n",
       "<style scoped>\n",
       "    .dataframe tbody tr th:only-of-type {\n",
       "        vertical-align: middle;\n",
       "    }\n",
       "\n",
       "    .dataframe tbody tr th {\n",
       "        vertical-align: top;\n",
       "    }\n",
       "\n",
       "    .dataframe thead th {\n",
       "        text-align: right;\n",
       "    }\n",
       "</style>\n",
       "<table border=\"1\" class=\"dataframe\">\n",
       "  <thead>\n",
       "    <tr style=\"text-align: right;\">\n",
       "      <th></th>\n",
       "      <th>Tangency Weights</th>\n",
       "    </tr>\n",
       "  </thead>\n",
       "  <tbody>\n",
       "    <tr>\n",
       "      <th>CMA</th>\n",
       "      <td>0.369283</td>\n",
       "    </tr>\n",
       "    <tr>\n",
       "      <th>RMW</th>\n",
       "      <td>0.307353</td>\n",
       "    </tr>\n",
       "    <tr>\n",
       "      <th>MKT</th>\n",
       "      <td>0.203875</td>\n",
       "    </tr>\n",
       "    <tr>\n",
       "      <th>UMD</th>\n",
       "      <td>0.093818</td>\n",
       "    </tr>\n",
       "    <tr>\n",
       "      <th>SMB</th>\n",
       "      <td>0.087446</td>\n",
       "    </tr>\n",
       "    <tr>\n",
       "      <th>HML</th>\n",
       "      <td>-0.061776</td>\n",
       "    </tr>\n",
       "  </tbody>\n",
       "</table>\n",
       "</div>"
      ],
      "text/plain": [
       "     Tangency Weights\n",
       "CMA          0.369283\n",
       "RMW          0.307353\n",
       "MKT          0.203875\n",
       "UMD          0.093818\n",
       "SMB          0.087446\n",
       "HML         -0.061776"
      ]
     },
     "execution_count": 15,
     "metadata": {},
     "output_type": "execute_result"
    }
   ],
   "source": [
    "print(\"Weights of Tangency Portfolio:\")\n",
    "tangencyWt.to_frame(\"Tangency Weights\").sort_values('Tangency Weights',ascending = False)"
   ]
  },
  {
   "cell_type": "markdown",
   "id": "534c6935",
   "metadata": {},
   "source": [
    "### (a) Which factors seem most important? And Least?\n",
    "- The `CMA`, `RMW`, and `MKT` factors seem the most important. More than 85% of the weights are allocated to them. The `HML` factor seems the least important as it has a negative weight."
   ]
  },
  {
   "cell_type": "markdown",
   "id": "c7610118",
   "metadata": {},
   "source": [
    "### (b) Are the factors with low mean returns still useful?"
   ]
  },
  {
   "cell_type": "code",
   "execution_count": 16,
   "id": "c684d4c9",
   "metadata": {},
   "outputs": [
    {
     "data": {
      "text/html": [
       "<div>\n",
       "<style scoped>\n",
       "    .dataframe tbody tr th:only-of-type {\n",
       "        vertical-align: middle;\n",
       "    }\n",
       "\n",
       "    .dataframe tbody tr th {\n",
       "        vertical-align: top;\n",
       "    }\n",
       "\n",
       "    .dataframe thead th {\n",
       "        text-align: right;\n",
       "    }\n",
       "</style>\n",
       "<table border=\"1\" class=\"dataframe\">\n",
       "  <thead>\n",
       "    <tr style=\"text-align: right;\">\n",
       "      <th></th>\n",
       "      <th>Mean</th>\n",
       "      <th>TangencyPortfolio</th>\n",
       "    </tr>\n",
       "  </thead>\n",
       "  <tbody>\n",
       "    <tr>\n",
       "      <th>SMB</th>\n",
       "      <td>0.011206</td>\n",
       "      <td>0.087446</td>\n",
       "    </tr>\n",
       "    <tr>\n",
       "      <th>HML</th>\n",
       "      <td>0.025324</td>\n",
       "      <td>-0.061776</td>\n",
       "    </tr>\n",
       "    <tr>\n",
       "      <th>CMA</th>\n",
       "      <td>0.032492</td>\n",
       "      <td>0.369283</td>\n",
       "    </tr>\n",
       "    <tr>\n",
       "      <th>RMW</th>\n",
       "      <td>0.046525</td>\n",
       "      <td>0.307353</td>\n",
       "    </tr>\n",
       "    <tr>\n",
       "      <th>UMD</th>\n",
       "      <td>0.060925</td>\n",
       "      <td>0.093818</td>\n",
       "    </tr>\n",
       "    <tr>\n",
       "      <th>MKT</th>\n",
       "      <td>0.084562</td>\n",
       "      <td>0.203875</td>\n",
       "    </tr>\n",
       "  </tbody>\n",
       "</table>\n",
       "</div>"
      ],
      "text/plain": [
       "         Mean  TangencyPortfolio\n",
       "SMB  0.011206           0.087446\n",
       "HML  0.025324          -0.061776\n",
       "CMA  0.032492           0.369283\n",
       "RMW  0.046525           0.307353\n",
       "UMD  0.060925           0.093818\n",
       "MKT  0.084562           0.203875"
      ]
     },
     "execution_count": 16,
     "metadata": {},
     "output_type": "execute_result"
    }
   ],
   "source": [
    "pd.concat([summaryStats(factors)['Mean'],tangencyWt],axis =1).sort_values('Mean')"
   ]
  },
  {
   "cell_type": "markdown",
   "id": "cb1c3cb4",
   "metadata": {},
   "source": [
    "- `CMA` and `RMW` have low mean returns, but they still have significant weights in the portfolio. However, `SMB` and `HML` may not be useful."
   ]
  },
  {
   "cell_type": "markdown",
   "id": "839d3ffc",
   "metadata": {},
   "source": [
    "### (c)\n",
    "#### Re-do the tangency portfolio, but this time only include MKT, SMB, HML, and UMD. Which factors get high/low tangency weights now?"
   ]
  },
  {
   "cell_type": "code",
   "execution_count": 17,
   "id": "31d315c9",
   "metadata": {},
   "outputs": [],
   "source": [
    "tangencyWt,tangencyMean,tangencyVol, tangencySharpe = computeTangencyPortfolio(factors[['MKT','SMB','HML','UMD']])"
   ]
  },
  {
   "cell_type": "code",
   "execution_count": 18,
   "id": "cce857f9",
   "metadata": {},
   "outputs": [
    {
     "name": "stdout",
     "output_type": "stream",
     "text": [
      "Weights of Tangency Portfolio:\n"
     ]
    },
    {
     "data": {
      "text/html": [
       "<div>\n",
       "<style scoped>\n",
       "    .dataframe tbody tr th:only-of-type {\n",
       "        vertical-align: middle;\n",
       "    }\n",
       "\n",
       "    .dataframe tbody tr th {\n",
       "        vertical-align: top;\n",
       "    }\n",
       "\n",
       "    .dataframe thead th {\n",
       "        text-align: right;\n",
       "    }\n",
       "</style>\n",
       "<table border=\"1\" class=\"dataframe\">\n",
       "  <thead>\n",
       "    <tr style=\"text-align: right;\">\n",
       "      <th></th>\n",
       "      <th>Tangency Weights</th>\n",
       "    </tr>\n",
       "  </thead>\n",
       "  <tbody>\n",
       "    <tr>\n",
       "      <th>MKT</th>\n",
       "      <td>0.356440</td>\n",
       "    </tr>\n",
       "    <tr>\n",
       "      <th>HML</th>\n",
       "      <td>0.348903</td>\n",
       "    </tr>\n",
       "    <tr>\n",
       "      <th>UMD</th>\n",
       "      <td>0.300861</td>\n",
       "    </tr>\n",
       "    <tr>\n",
       "      <th>SMB</th>\n",
       "      <td>-0.006204</td>\n",
       "    </tr>\n",
       "  </tbody>\n",
       "</table>\n",
       "</div>"
      ],
      "text/plain": [
       "     Tangency Weights\n",
       "MKT          0.356440\n",
       "HML          0.348903\n",
       "UMD          0.300861\n",
       "SMB         -0.006204"
      ]
     },
     "execution_count": 18,
     "metadata": {},
     "output_type": "execute_result"
    }
   ],
   "source": [
    "print(\"Weights of Tangency Portfolio:\")\n",
    "tangencyWt.to_frame(\"Tangency Weights\").sort_values('Tangency Weights',ascending = False)"
   ]
  },
  {
   "cell_type": "code",
   "execution_count": 19,
   "id": "c74d441d",
   "metadata": {},
   "outputs": [
    {
     "data": {
      "text/html": [
       "<div>\n",
       "<style scoped>\n",
       "    .dataframe tbody tr th:only-of-type {\n",
       "        vertical-align: middle;\n",
       "    }\n",
       "\n",
       "    .dataframe tbody tr th {\n",
       "        vertical-align: top;\n",
       "    }\n",
       "\n",
       "    .dataframe thead th {\n",
       "        text-align: right;\n",
       "    }\n",
       "</style>\n",
       "<table border=\"1\" class=\"dataframe\">\n",
       "  <thead>\n",
       "    <tr style=\"text-align: right;\">\n",
       "      <th></th>\n",
       "      <th>Mean</th>\n",
       "      <th>TangencyPortfolio</th>\n",
       "    </tr>\n",
       "  </thead>\n",
       "  <tbody>\n",
       "    <tr>\n",
       "      <th>SMB</th>\n",
       "      <td>0.011206</td>\n",
       "      <td>-0.006204</td>\n",
       "    </tr>\n",
       "    <tr>\n",
       "      <th>HML</th>\n",
       "      <td>0.025324</td>\n",
       "      <td>0.348903</td>\n",
       "    </tr>\n",
       "    <tr>\n",
       "      <th>UMD</th>\n",
       "      <td>0.060925</td>\n",
       "      <td>0.300861</td>\n",
       "    </tr>\n",
       "    <tr>\n",
       "      <th>MKT</th>\n",
       "      <td>0.084562</td>\n",
       "      <td>0.356440</td>\n",
       "    </tr>\n",
       "  </tbody>\n",
       "</table>\n",
       "</div>"
      ],
      "text/plain": [
       "         Mean  TangencyPortfolio\n",
       "SMB  0.011206          -0.006204\n",
       "HML  0.025324           0.348903\n",
       "UMD  0.060925           0.300861\n",
       "MKT  0.084562           0.356440"
      ]
     },
     "execution_count": 19,
     "metadata": {},
     "output_type": "execute_result"
    }
   ],
   "source": [
    "pd.concat([summaryStats(factors)['Mean'],tangencyWt],axis =1).dropna().sort_values('Mean')"
   ]
  },
  {
   "cell_type": "markdown",
   "id": "568ddb3c",
   "metadata": {},
   "source": [
    "- The factors `HML`, `UMD`, and `MKT` have high tangency weights now. `SMB` still has a low weight."
   ]
  },
  {
   "cell_type": "markdown",
   "id": "84842c63",
   "metadata": {},
   "source": [
    "### What do you conclude about the importance or unimportance of these styles?\n",
    "- Since the `HML` factor generally has a high correlation with other factors, espescially with `CMA`, this factor plays a less important role in the tangency portfolio. As other correlated factors take higher weights than `HML`, in that sense, `HML` might be redundant."
   ]
  },
  {
   "cell_type": "markdown",
   "id": "e8e11eb1",
   "metadata": {},
   "source": [
    "# 3 Testing Modern LPMs"
   ]
  },
  {
   "cell_type": "markdown",
   "id": "f4c156c0",
   "metadata": {},
   "source": [
    "## 1. Test the AQR 4-Factor Model using the time-series test. (We are not doing the cross-sectional regression tests.)"
   ]
  },
  {
   "cell_type": "code",
   "execution_count": 20,
   "id": "fefa1823",
   "metadata": {},
   "outputs": [],
   "source": [
    "portfolios = pd.read_excel('factor_pricing_data.xlsx',sheet_name='portfolios (excess returns)',index_col='Date')"
   ]
  },
  {
   "cell_type": "code",
   "execution_count": 25,
   "id": "e2cba0ca",
   "metadata": {},
   "outputs": [],
   "source": [
    "def linearRegression(seriesY,seriesX):\n",
    "    \n",
    "    mean =seriesY.mean()*12\n",
    "    sharpe = mean/(seriesY.std()*(12**0.5))\n",
    "    model = sm.OLS(seriesY,sm.add_constant(seriesX)).fit()\n",
    "    rsq = model.rsquared\n",
    "    \n",
    "    beta = pd.DataFrame(index= [seriesY.name])\n",
    "    \n",
    "    for i,x in enumerate(seriesX):\n",
    "         beta[x] = model.params[i+1]\n",
    "    \n",
    "    betaCols = [i+'Beta' for i in seriesX]\n",
    "    beta = beta.rename(columns = dict(zip(beta.columns,betaCols)))\n",
    "    \n",
    "    treynor = mean/beta[beta.columns[0]]  # Treynor ratio: μ/MKTβ\n",
    "    alpha = model.params[0]*12  # Annualized α\n",
    "    information = alpha/(model.resid.std()*np.sqrt(12))  # Annualized information ratio\n",
    "    \n",
    "    RegressionStats = pd.DataFrame({'Mean Return':mean,'Sharpe Ratio':sharpe,'R Squared':rsq,\\\n",
    "                         'α':alpha, 'Information Ratio':information, 'Treynor':treynor},index= [seriesY.name])\n",
    "    \n",
    "    return pd.concat([RegressionStats,beta], axis =1)"
   ]
  },
  {
   "cell_type": "markdown",
   "id": "dcc5cb83",
   "metadata": {},
   "source": [
    "## 3.1 AQR 4-factor model"
   ]
  },
  {
   "cell_type": "code",
   "execution_count": 22,
   "id": "49af20cd",
   "metadata": {},
   "outputs": [],
   "source": [
    "aqr = factors[['MKT', 'HML', 'RMW', 'UMD']]"
   ]
  },
  {
   "cell_type": "markdown",
   "id": "01293dd9",
   "metadata": {},
   "source": [
    "### (a) For each regression, report the estimated α and r-squared."
   ]
  },
  {
   "cell_type": "code",
   "execution_count": 24,
   "id": "55ed2212",
   "metadata": {},
   "outputs": [
    {
     "data": {
      "text/html": [
       "<div>\n",
       "<style scoped>\n",
       "    .dataframe tbody tr th:only-of-type {\n",
       "        vertical-align: middle;\n",
       "    }\n",
       "\n",
       "    .dataframe tbody tr th {\n",
       "        vertical-align: top;\n",
       "    }\n",
       "\n",
       "    .dataframe thead th {\n",
       "        text-align: right;\n",
       "    }\n",
       "</style>\n",
       "<table border=\"1\" class=\"dataframe\">\n",
       "  <thead>\n",
       "    <tr style=\"text-align: right;\">\n",
       "      <th></th>\n",
       "      <th>Agric</th>\n",
       "      <th>Food</th>\n",
       "      <th>Soda</th>\n",
       "      <th>Beer</th>\n",
       "      <th>Smoke</th>\n",
       "      <th>Toys</th>\n",
       "      <th>Fun</th>\n",
       "      <th>Books</th>\n",
       "      <th>Hshld</th>\n",
       "      <th>Clths</th>\n",
       "      <th>...</th>\n",
       "      <th>Boxes</th>\n",
       "      <th>Trans</th>\n",
       "      <th>Whlsl</th>\n",
       "      <th>Rtail</th>\n",
       "      <th>Meals</th>\n",
       "      <th>Banks</th>\n",
       "      <th>Insur</th>\n",
       "      <th>RlEst</th>\n",
       "      <th>Fin</th>\n",
       "      <th>Other</th>\n",
       "    </tr>\n",
       "  </thead>\n",
       "  <tbody>\n",
       "    <tr>\n",
       "      <th>Mean Return</th>\n",
       "      <td>0.089693</td>\n",
       "      <td>0.099669</td>\n",
       "      <td>0.108840</td>\n",
       "      <td>0.119426</td>\n",
       "      <td>0.132925</td>\n",
       "      <td>0.062946</td>\n",
       "      <td>0.118245</td>\n",
       "      <td>0.074122</td>\n",
       "      <td>0.081545</td>\n",
       "      <td>0.098083</td>\n",
       "      <td>...</td>\n",
       "      <td>0.092398</td>\n",
       "      <td>0.090785</td>\n",
       "      <td>0.085521</td>\n",
       "      <td>0.111818</td>\n",
       "      <td>0.103863</td>\n",
       "      <td>0.088988</td>\n",
       "      <td>0.095899</td>\n",
       "      <td>0.048103</td>\n",
       "      <td>0.110258</td>\n",
       "      <td>0.050820</td>\n",
       "    </tr>\n",
       "    <tr>\n",
       "      <th>Sharpe Ratio</th>\n",
       "      <td>0.412541</td>\n",
       "      <td>0.660014</td>\n",
       "      <td>0.490980</td>\n",
       "      <td>0.700661</td>\n",
       "      <td>0.592263</td>\n",
       "      <td>0.252209</td>\n",
       "      <td>0.446060</td>\n",
       "      <td>0.357971</td>\n",
       "      <td>0.529226</td>\n",
       "      <td>0.437351</td>\n",
       "      <td>...</td>\n",
       "      <td>0.462944</td>\n",
       "      <td>0.452969</td>\n",
       "      <td>0.473165</td>\n",
       "      <td>0.596456</td>\n",
       "      <td>0.569968</td>\n",
       "      <td>0.413863</td>\n",
       "      <td>0.526738</td>\n",
       "      <td>0.192725</td>\n",
       "      <td>0.493620</td>\n",
       "      <td>0.239526</td>\n",
       "    </tr>\n",
       "    <tr>\n",
       "      <th>R Squared</th>\n",
       "      <td>0.341333</td>\n",
       "      <td>0.471088</td>\n",
       "      <td>0.307178</td>\n",
       "      <td>0.426698</td>\n",
       "      <td>0.272555</td>\n",
       "      <td>0.510315</td>\n",
       "      <td>0.617319</td>\n",
       "      <td>0.689702</td>\n",
       "      <td>0.560258</td>\n",
       "      <td>0.631763</td>\n",
       "      <td>...</td>\n",
       "      <td>0.586154</td>\n",
       "      <td>0.707433</td>\n",
       "      <td>0.756767</td>\n",
       "      <td>0.683464</td>\n",
       "      <td>0.643047</td>\n",
       "      <td>0.772044</td>\n",
       "      <td>0.685298</td>\n",
       "      <td>0.603615</td>\n",
       "      <td>0.812962</td>\n",
       "      <td>0.595904</td>\n",
       "    </tr>\n",
       "    <tr>\n",
       "      <th>α</th>\n",
       "      <td>0.009491</td>\n",
       "      <td>0.011434</td>\n",
       "      <td>0.019555</td>\n",
       "      <td>0.024178</td>\n",
       "      <td>0.035317</td>\n",
       "      <td>-0.032189</td>\n",
       "      <td>0.031788</td>\n",
       "      <td>-0.030329</td>\n",
       "      <td>-0.005510</td>\n",
       "      <td>-0.011724</td>\n",
       "      <td>...</td>\n",
       "      <td>0.002115</td>\n",
       "      <td>-0.017072</td>\n",
       "      <td>-0.013517</td>\n",
       "      <td>0.019527</td>\n",
       "      <td>0.002487</td>\n",
       "      <td>-0.022979</td>\n",
       "      <td>-0.008563</td>\n",
       "      <td>-0.056717</td>\n",
       "      <td>0.018242</td>\n",
       "      <td>-0.045176</td>\n",
       "    </tr>\n",
       "    <tr>\n",
       "      <th>Information Ratio</th>\n",
       "      <td>0.053788</td>\n",
       "      <td>0.104111</td>\n",
       "      <td>0.105981</td>\n",
       "      <td>0.187339</td>\n",
       "      <td>0.184497</td>\n",
       "      <td>-0.184306</td>\n",
       "      <td>0.193848</td>\n",
       "      <td>-0.262943</td>\n",
       "      <td>-0.053928</td>\n",
       "      <td>-0.086150</td>\n",
       "      <td>...</td>\n",
       "      <td>0.016476</td>\n",
       "      <td>-0.157477</td>\n",
       "      <td>-0.151638</td>\n",
       "      <td>0.185137</td>\n",
       "      <td>0.022844</td>\n",
       "      <td>-0.223835</td>\n",
       "      <td>-0.083839</td>\n",
       "      <td>-0.360927</td>\n",
       "      <td>0.188842</td>\n",
       "      <td>-0.334950</td>\n",
       "    </tr>\n",
       "    <tr>\n",
       "      <th>Treynor</th>\n",
       "      <td>0.107052</td>\n",
       "      <td>0.146377</td>\n",
       "      <td>0.138704</td>\n",
       "      <td>0.165106</td>\n",
       "      <td>0.180305</td>\n",
       "      <td>0.056362</td>\n",
       "      <td>0.094682</td>\n",
       "      <td>0.066563</td>\n",
       "      <td>0.108322</td>\n",
       "      <td>0.087683</td>\n",
       "      <td>...</td>\n",
       "      <td>0.094565</td>\n",
       "      <td>0.083035</td>\n",
       "      <td>0.082898</td>\n",
       "      <td>0.113938</td>\n",
       "      <td>0.109533</td>\n",
       "      <td>0.076764</td>\n",
       "      <td>0.097882</td>\n",
       "      <td>0.040084</td>\n",
       "      <td>0.088997</td>\n",
       "      <td>0.047921</td>\n",
       "    </tr>\n",
       "    <tr>\n",
       "      <th>MKTBeta</th>\n",
       "      <td>0.837838</td>\n",
       "      <td>0.680903</td>\n",
       "      <td>0.784688</td>\n",
       "      <td>0.723330</td>\n",
       "      <td>0.737220</td>\n",
       "      <td>1.116824</td>\n",
       "      <td>1.248868</td>\n",
       "      <td>1.113566</td>\n",
       "      <td>0.752802</td>\n",
       "      <td>1.118614</td>\n",
       "      <td>...</td>\n",
       "      <td>0.977081</td>\n",
       "      <td>1.093328</td>\n",
       "      <td>1.031640</td>\n",
       "      <td>0.981389</td>\n",
       "      <td>0.948235</td>\n",
       "      <td>1.159250</td>\n",
       "      <td>0.979743</td>\n",
       "      <td>1.200074</td>\n",
       "      <td>1.238895</td>\n",
       "      <td>1.060498</td>\n",
       "    </tr>\n",
       "    <tr>\n",
       "      <th>HMLBeta</th>\n",
       "      <td>0.178699</td>\n",
       "      <td>0.169841</td>\n",
       "      <td>0.206106</td>\n",
       "      <td>0.025183</td>\n",
       "      <td>0.249344</td>\n",
       "      <td>-0.035336</td>\n",
       "      <td>0.000177</td>\n",
       "      <td>0.265474</td>\n",
       "      <td>0.000889</td>\n",
       "      <td>0.049475</td>\n",
       "      <td>...</td>\n",
       "      <td>0.116515</td>\n",
       "      <td>0.189071</td>\n",
       "      <td>0.099153</td>\n",
       "      <td>-0.140767</td>\n",
       "      <td>0.080657</td>\n",
       "      <td>0.721895</td>\n",
       "      <td>0.479804</td>\n",
       "      <td>0.490751</td>\n",
       "      <td>0.327216</td>\n",
       "      <td>0.087573</td>\n",
       "    </tr>\n",
       "    <tr>\n",
       "      <th>RMWBeta</th>\n",
       "      <td>-0.006405</td>\n",
       "      <td>0.507359</td>\n",
       "      <td>0.494736</td>\n",
       "      <td>0.600586</td>\n",
       "      <td>0.657434</td>\n",
       "      <td>0.230797</td>\n",
       "      <td>-0.109524</td>\n",
       "      <td>0.177919</td>\n",
       "      <td>0.485108</td>\n",
       "      <td>0.564987</td>\n",
       "      <td>...</td>\n",
       "      <td>0.255496</td>\n",
       "      <td>0.352329</td>\n",
       "      <td>0.185132</td>\n",
       "      <td>0.347550</td>\n",
       "      <td>0.500334</td>\n",
       "      <td>0.087560</td>\n",
       "      <td>0.222779</td>\n",
       "      <td>0.062269</td>\n",
       "      <td>-0.401302</td>\n",
       "      <td>0.117101</td>\n",
       "    </tr>\n",
       "    <tr>\n",
       "      <th>UMDBeta</th>\n",
       "      <td>0.084119</td>\n",
       "      <td>0.045146</td>\n",
       "      <td>-0.087111</td>\n",
       "      <td>0.090319</td>\n",
       "      <td>-0.026824</td>\n",
       "      <td>-0.150169</td>\n",
       "      <td>-0.230768</td>\n",
       "      <td>-0.077390</td>\n",
       "      <td>0.013206</td>\n",
       "      <td>-0.202276</td>\n",
       "      <td>...</td>\n",
       "      <td>-0.117838</td>\n",
       "      <td>-0.094835</td>\n",
       "      <td>0.011102</td>\n",
       "      <td>-0.054203</td>\n",
       "      <td>-0.067775</td>\n",
       "      <td>-0.138145</td>\n",
       "      <td>-0.014815</td>\n",
       "      <td>-0.196719</td>\n",
       "      <td>-0.038805</td>\n",
       "      <td>-0.022131</td>\n",
       "    </tr>\n",
       "  </tbody>\n",
       "</table>\n",
       "<p>10 rows × 49 columns</p>\n",
       "</div>"
      ],
      "text/plain": [
       "                      Agric     Food      Soda      Beer      Smoke     Toys   \\\n",
       "Mean Return        0.089693  0.099669  0.108840  0.119426  0.132925  0.062946   \n",
       "Sharpe Ratio       0.412541  0.660014  0.490980  0.700661  0.592263  0.252209   \n",
       "R Squared          0.341333  0.471088  0.307178  0.426698  0.272555  0.510315   \n",
       "α                  0.009491  0.011434  0.019555  0.024178  0.035317 -0.032189   \n",
       "Information Ratio  0.053788  0.104111  0.105981  0.187339  0.184497 -0.184306   \n",
       "Treynor            0.107052  0.146377  0.138704  0.165106  0.180305  0.056362   \n",
       "MKTBeta            0.837838  0.680903  0.784688  0.723330  0.737220  1.116824   \n",
       "HMLBeta            0.178699  0.169841  0.206106  0.025183  0.249344 -0.035336   \n",
       "RMWBeta           -0.006405  0.507359  0.494736  0.600586  0.657434  0.230797   \n",
       "UMDBeta            0.084119  0.045146 -0.087111  0.090319 -0.026824 -0.150169   \n",
       "\n",
       "                      Fun       Books     Hshld     Clths  ...     Boxes  \\\n",
       "Mean Return        0.118245  0.074122  0.081545  0.098083  ...  0.092398   \n",
       "Sharpe Ratio       0.446060  0.357971  0.529226  0.437351  ...  0.462944   \n",
       "R Squared          0.617319  0.689702  0.560258  0.631763  ...  0.586154   \n",
       "α                  0.031788 -0.030329 -0.005510 -0.011724  ...  0.002115   \n",
       "Information Ratio  0.193848 -0.262943 -0.053928 -0.086150  ...  0.016476   \n",
       "Treynor            0.094682  0.066563  0.108322  0.087683  ...  0.094565   \n",
       "MKTBeta            1.248868  1.113566  0.752802  1.118614  ...  0.977081   \n",
       "HMLBeta            0.000177  0.265474  0.000889  0.049475  ...  0.116515   \n",
       "RMWBeta           -0.109524  0.177919  0.485108  0.564987  ...  0.255496   \n",
       "UMDBeta           -0.230768 -0.077390  0.013206 -0.202276  ... -0.117838   \n",
       "\n",
       "                      Trans     Whlsl     Rtail     Meals     Banks     Insur  \\\n",
       "Mean Return        0.090785  0.085521  0.111818  0.103863  0.088988  0.095899   \n",
       "Sharpe Ratio       0.452969  0.473165  0.596456  0.569968  0.413863  0.526738   \n",
       "R Squared          0.707433  0.756767  0.683464  0.643047  0.772044  0.685298   \n",
       "α                 -0.017072 -0.013517  0.019527  0.002487 -0.022979 -0.008563   \n",
       "Information Ratio -0.157477 -0.151638  0.185137  0.022844 -0.223835 -0.083839   \n",
       "Treynor            0.083035  0.082898  0.113938  0.109533  0.076764  0.097882   \n",
       "MKTBeta            1.093328  1.031640  0.981389  0.948235  1.159250  0.979743   \n",
       "HMLBeta            0.189071  0.099153 -0.140767  0.080657  0.721895  0.479804   \n",
       "RMWBeta            0.352329  0.185132  0.347550  0.500334  0.087560  0.222779   \n",
       "UMDBeta           -0.094835  0.011102 -0.054203 -0.067775 -0.138145 -0.014815   \n",
       "\n",
       "                      RlEst     Fin       Other  \n",
       "Mean Return        0.048103  0.110258  0.050820  \n",
       "Sharpe Ratio       0.192725  0.493620  0.239526  \n",
       "R Squared          0.603615  0.812962  0.595904  \n",
       "α                 -0.056717  0.018242 -0.045176  \n",
       "Information Ratio -0.360927  0.188842 -0.334950  \n",
       "Treynor            0.040084  0.088997  0.047921  \n",
       "MKTBeta            1.200074  1.238895  1.060498  \n",
       "HMLBeta            0.490751  0.327216  0.087573  \n",
       "RMWBeta            0.062269 -0.401302  0.117101  \n",
       "UMDBeta           -0.196719 -0.038805 -0.022131  \n",
       "\n",
       "[10 rows x 49 columns]"
      ]
     },
     "execution_count": 24,
     "metadata": {},
     "output_type": "execute_result"
    }
   ],
   "source": [
    "frames = []\n",
    "for col in portfolios:\n",
    "    p = linearRegression(portfolios[col],aqr)\n",
    "    frames.append(p) \n",
    "AQRRegression = pd.concat(frames)\n",
    "AQRRegression.T"
   ]
  },
  {
   "cell_type": "markdown",
   "id": "3330b3a8",
   "metadata": {},
   "source": [
    "### Calculate the mean-absolute-error of the estimated alphas, (one for each security, ˜ri.)"
   ]
  },
  {
   "cell_type": "code",
   "execution_count": 27,
   "id": "ded0e208",
   "metadata": {},
   "outputs": [
    {
     "name": "stdout",
     "output_type": "stream",
     "text": [
      "Mean Absolute Error for AQR factors: 0.022995\n"
     ]
    }
   ],
   "source": [
    "AQR_MAE = round(abs(AQRRegression['α']).mean(),6)\n",
    "print(f'Mean Absolute Error for AQR factors: {AQR_MAE}')"
   ]
  },
  {
   "cell_type": "markdown",
   "id": "18b734e4",
   "metadata": {},
   "source": [
    "### If the pricing model worked, should these alpha estimates be large or small? Why? Based on your MAE stat, does this seem to support the pricing model or not?"
   ]
  },
  {
   "cell_type": "markdown",
   "id": "cafec6bb",
   "metadata": {},
   "source": [
    "- If the pricing model was true, these $\\alpha$ estimates should be small as most of the variation in excess returns should be explained by the AQR factors.\n",
    "- We have a MAE stat of 2.30%, which is quite small, but there is still some variation of excess returns not explained by the AQR factor model."
   ]
  },
  {
   "cell_type": "markdown",
   "id": "0a5bbc26",
   "metadata": {},
   "source": [
    "## 3.2\n",
    "### Test the CAPM, FF 3-Factor Model and the the FF 5-Factor Model. Report the MAE statistic for each of these models and compare it with the AQR Model MAE. Which model fits best?"
   ]
  },
  {
   "cell_type": "code",
   "execution_count": 28,
   "id": "2e936af8",
   "metadata": {},
   "outputs": [],
   "source": [
    "ff3 = factors[['MKT', 'SMB', 'HML']]\n",
    "\n",
    "frames = []\n",
    "for col in portfolios:\n",
    "    p = linearRegression(portfolios[col],ff3)\n",
    "    frames.append(p) \n",
    "FF3Regression = pd.concat(frames)"
   ]
  },
  {
   "cell_type": "code",
   "execution_count": 30,
   "id": "67ae3849",
   "metadata": {},
   "outputs": [
    {
     "name": "stdout",
     "output_type": "stream",
     "text": [
      "Mean Absolute Error for FF-3 Factor Model: 0.0242\n"
     ]
    }
   ],
   "source": [
    "FF3_MAE = round(abs(FF3Regression['α']).mean(),6)\n",
    "print(f'Mean Absolute Error for FF-3 Factor Model: {FF3_MAE}')"
   ]
  },
  {
   "cell_type": "code",
   "execution_count": 31,
   "id": "72c97dc2",
   "metadata": {},
   "outputs": [],
   "source": [
    "ff5 = factors[['MKT', 'SMB', 'HML', 'RMW', 'CMA']]\n",
    "frames = []\n",
    "for col in portfolios:\n",
    "    p = linearRegression(portfolios[col],ff5)\n",
    "    frames.append(p) \n",
    "FF5Regression = pd.concat(frames)\n",
    "FF5_MAE = abs(FF3Regression['α']).mean()"
   ]
  },
  {
   "cell_type": "code",
   "execution_count": 33,
   "id": "f41fde33",
   "metadata": {},
   "outputs": [
    {
     "name": "stdout",
     "output_type": "stream",
     "text": [
      "Mean Absolute Error for FF-5 Factor Model: 0.031272\n"
     ]
    }
   ],
   "source": [
    "FF5_MAE = round(abs(FF5Regression['α']).mean(),6)\n",
    "print(f'Mean Absolute Error for FF-5 Factor Model: {FF5_MAE}')"
   ]
  },
  {
   "cell_type": "code",
   "execution_count": 34,
   "id": "1acf6746",
   "metadata": {},
   "outputs": [
    {
     "data": {
      "text/html": [
       "<div>\n",
       "<style scoped>\n",
       "    .dataframe tbody tr th:only-of-type {\n",
       "        vertical-align: middle;\n",
       "    }\n",
       "\n",
       "    .dataframe tbody tr th {\n",
       "        vertical-align: top;\n",
       "    }\n",
       "\n",
       "    .dataframe thead th {\n",
       "        text-align: right;\n",
       "    }\n",
       "</style>\n",
       "<table border=\"1\" class=\"dataframe\">\n",
       "  <thead>\n",
       "    <tr style=\"text-align: right;\">\n",
       "      <th></th>\n",
       "      <th>MAE</th>\n",
       "    </tr>\n",
       "  </thead>\n",
       "  <tbody>\n",
       "    <tr>\n",
       "      <th>AQR</th>\n",
       "      <td>0.022995</td>\n",
       "    </tr>\n",
       "    <tr>\n",
       "      <th>FF-3</th>\n",
       "      <td>0.024200</td>\n",
       "    </tr>\n",
       "    <tr>\n",
       "      <th>FF-5</th>\n",
       "      <td>0.031272</td>\n",
       "    </tr>\n",
       "  </tbody>\n",
       "</table>\n",
       "</div>"
      ],
      "text/plain": [
       "           MAE\n",
       "AQR   0.022995\n",
       "FF-3  0.024200\n",
       "FF-5  0.031272"
      ]
     },
     "execution_count": 34,
     "metadata": {},
     "output_type": "execute_result"
    }
   ],
   "source": [
    "MAE_TS = pd.DataFrame({'MAE':[AQR_MAE,FF3_MAE,FF5_MAE]}, index = [\"AQR\",\"FF-3\",\"FF-5\"])\n",
    "MAE_TS"
   ]
  },
  {
   "cell_type": "markdown",
   "id": "c1824c32",
   "metadata": {},
   "source": [
    "- The AQR factor model fits the best as it has the lowest MAE stat."
   ]
  },
  {
   "cell_type": "markdown",
   "id": "3473e946",
   "metadata": {},
   "source": [
    "## 3.3\n",
    "### Does any particular factor seem especially important or unimportant for pricing? Do you think Fama and French should use the Momentum Factor?"
   ]
  },
  {
   "cell_type": "markdown",
   "id": "6ff79f3d",
   "metadata": {},
   "source": [
    "- Comparing to the Fama-French 3-factor model, the FF-5 factor model has a higher MAE stat, which means the additional two factors, `RMW` and `CMA`, may not be important.\n",
    "- The AQR model adds the `UMD`(Momentum) factor, and has a lower MAE stat, so I think Fama and French should include the momentum factor."
   ]
  },
  {
   "cell_type": "markdown",
   "id": "5044036d",
   "metadata": {},
   "source": [
    "## 3.4\n",
    "### This does not matter for pricing, but report the average (across n estimations) of the time-series regression r-squared statistics. Do this for each of the three models you tested. Do these models lead to high time-series r-squared stats? That is, would these factors be good in a Linear Factor Decomposition of the assets?\n"
   ]
  },
  {
   "cell_type": "code",
   "execution_count": 35,
   "id": "9b82371a",
   "metadata": {},
   "outputs": [],
   "source": [
    "AQR_RSq = AQRRegression['R Squared'].mean()\n",
    "FF3_RSq = FF3Regression['R Squared'].mean()\n",
    "FF5_RSq = FF5Regression['R Squared'].mean()"
   ]
  },
  {
   "cell_type": "code",
   "execution_count": 36,
   "id": "a997a704",
   "metadata": {},
   "outputs": [
    {
     "data": {
      "text/html": [
       "<div>\n",
       "<style scoped>\n",
       "    .dataframe tbody tr th:only-of-type {\n",
       "        vertical-align: middle;\n",
       "    }\n",
       "\n",
       "    .dataframe tbody tr th {\n",
       "        vertical-align: top;\n",
       "    }\n",
       "\n",
       "    .dataframe thead th {\n",
       "        text-align: right;\n",
       "    }\n",
       "</style>\n",
       "<table border=\"1\" class=\"dataframe\">\n",
       "  <thead>\n",
       "    <tr style=\"text-align: right;\">\n",
       "      <th></th>\n",
       "      <th>Average R Squared</th>\n",
       "    </tr>\n",
       "  </thead>\n",
       "  <tbody>\n",
       "    <tr>\n",
       "      <th>AQR</th>\n",
       "      <td>0.577081</td>\n",
       "    </tr>\n",
       "    <tr>\n",
       "      <th>FF3</th>\n",
       "      <td>0.572516</td>\n",
       "    </tr>\n",
       "    <tr>\n",
       "      <th>FF5</th>\n",
       "      <td>0.597519</td>\n",
       "    </tr>\n",
       "  </tbody>\n",
       "</table>\n",
       "</div>"
      ],
      "text/plain": [
       "     Average R Squared\n",
       "AQR           0.577081\n",
       "FF3           0.572516\n",
       "FF5           0.597519"
      ]
     },
     "execution_count": 36,
     "metadata": {},
     "output_type": "execute_result"
    }
   ],
   "source": [
    "Average_R_Squared = pd.Series({'AQR':AQR_RSq,'FF3':FF3_RSq,'FF5':FF5_RSq})\n",
    "Average_R_Squared.to_frame(\"Average R Squared\")"
   ]
  },
  {
   "cell_type": "markdown",
   "id": "7d648e23",
   "metadata": {},
   "source": [
    "- The $R^2$ statistics of the three models are close. They are all below 0.6, and therefore they are not high enough to explain most of the variation in excess returns. Thus, these factor models may not be good in a Linear Factor Decomposition of the assets."
   ]
  },
  {
   "cell_type": "markdown",
   "id": "15210b54",
   "metadata": {},
   "source": [
    "## 3.5\n",
    "### We tested three models using the time-series tests (focusing on the time-series alphas.) Re-test these models, but this time use the cross-sectional test."
   ]
  },
  {
   "cell_type": "code",
   "execution_count": 37,
   "id": "79e0a67a",
   "metadata": {},
   "outputs": [
    {
     "data": {
      "text/html": [
       "<div>\n",
       "<style scoped>\n",
       "    .dataframe tbody tr th:only-of-type {\n",
       "        vertical-align: middle;\n",
       "    }\n",
       "\n",
       "    .dataframe tbody tr th {\n",
       "        vertical-align: top;\n",
       "    }\n",
       "\n",
       "    .dataframe thead th {\n",
       "        text-align: right;\n",
       "    }\n",
       "</style>\n",
       "<table border=\"1\" class=\"dataframe\">\n",
       "  <thead>\n",
       "    <tr style=\"text-align: right;\">\n",
       "      <th></th>\n",
       "      <th>Time Series Premia</th>\n",
       "    </tr>\n",
       "  </thead>\n",
       "  <tbody>\n",
       "    <tr>\n",
       "      <th>MKTBeta</th>\n",
       "      <td>0.084562</td>\n",
       "    </tr>\n",
       "    <tr>\n",
       "      <th>SMBBeta</th>\n",
       "      <td>0.011206</td>\n",
       "    </tr>\n",
       "    <tr>\n",
       "      <th>HMLBeta</th>\n",
       "      <td>0.025324</td>\n",
       "    </tr>\n",
       "    <tr>\n",
       "      <th>RMWBeta</th>\n",
       "      <td>0.046525</td>\n",
       "    </tr>\n",
       "    <tr>\n",
       "      <th>CMABeta</th>\n",
       "      <td>0.032492</td>\n",
       "    </tr>\n",
       "    <tr>\n",
       "      <th>UMDBeta</th>\n",
       "      <td>0.060925</td>\n",
       "    </tr>\n",
       "  </tbody>\n",
       "</table>\n",
       "</div>"
      ],
      "text/plain": [
       "         Time Series Premia\n",
       "MKTBeta            0.084562\n",
       "SMBBeta            0.011206\n",
       "HMLBeta            0.025324\n",
       "RMWBeta            0.046525\n",
       "CMABeta            0.032492\n",
       "UMDBeta            0.060925"
      ]
     },
     "execution_count": 37,
     "metadata": {},
     "output_type": "execute_result"
    }
   ],
   "source": [
    "time_series_premia = (factors.mean()*12).to_frame('Time Series Premia')\n",
    "time_series_premia.index = [x+\"Beta\" for x in time_series_premia.index]\n",
    "time_series_premia"
   ]
  },
  {
   "cell_type": "markdown",
   "id": "34e8b489",
   "metadata": {},
   "source": [
    "#### AQR Model"
   ]
  },
  {
   "cell_type": "code",
   "execution_count": 40,
   "id": "c7d055a2",
   "metadata": {},
   "outputs": [
    {
     "data": {
      "text/html": [
       "<div>\n",
       "<style scoped>\n",
       "    .dataframe tbody tr th:only-of-type {\n",
       "        vertical-align: middle;\n",
       "    }\n",
       "\n",
       "    .dataframe tbody tr th {\n",
       "        vertical-align: top;\n",
       "    }\n",
       "\n",
       "    .dataframe thead th {\n",
       "        text-align: right;\n",
       "    }\n",
       "</style>\n",
       "<table border=\"1\" class=\"dataframe\">\n",
       "  <thead>\n",
       "    <tr style=\"text-align: right;\">\n",
       "      <th></th>\n",
       "      <th>AQR CS Premia</th>\n",
       "    </tr>\n",
       "  </thead>\n",
       "  <tbody>\n",
       "    <tr>\n",
       "      <th>MKTBeta</th>\n",
       "      <td>0.087644</td>\n",
       "    </tr>\n",
       "    <tr>\n",
       "      <th>HMLBeta</th>\n",
       "      <td>-0.039757</td>\n",
       "    </tr>\n",
       "    <tr>\n",
       "      <th>RMWBeta</th>\n",
       "      <td>0.044399</td>\n",
       "    </tr>\n",
       "    <tr>\n",
       "      <th>UMDBeta</th>\n",
       "      <td>0.053375</td>\n",
       "    </tr>\n",
       "  </tbody>\n",
       "</table>\n",
       "</div>"
      ],
      "text/plain": [
       "         AQR CS Premia\n",
       "MKTBeta       0.087644\n",
       "HMLBeta      -0.039757\n",
       "RMWBeta       0.044399\n",
       "UMDBeta       0.053375"
      ]
     },
     "execution_count": 40,
     "metadata": {},
     "output_type": "execute_result"
    }
   ],
   "source": [
    "y = AQRRegression['Mean Return']\n",
    "x = AQRRegression[['MKTBeta','HMLBeta','RMWBeta','UMDBeta']]\n",
    "AQRRegressionCS = sm.OLS(y,x,missing='drop').fit()\n",
    "AQR_CS_MAE = abs(AQRRegressionCS.resid).mean()\n",
    "AQR_CS_premia = AQRRegressionCS.params.to_frame(\"AQR CS Premia\")\n",
    "AQR_CS_premia"
   ]
  },
  {
   "cell_type": "markdown",
   "id": "fd88d4b2",
   "metadata": {},
   "source": [
    "#### Fama French 3 Model"
   ]
  },
  {
   "cell_type": "code",
   "execution_count": 41,
   "id": "fe5d4f71",
   "metadata": {},
   "outputs": [
    {
     "data": {
      "text/html": [
       "<div>\n",
       "<style scoped>\n",
       "    .dataframe tbody tr th:only-of-type {\n",
       "        vertical-align: middle;\n",
       "    }\n",
       "\n",
       "    .dataframe tbody tr th {\n",
       "        vertical-align: top;\n",
       "    }\n",
       "\n",
       "    .dataframe thead th {\n",
       "        text-align: right;\n",
       "    }\n",
       "</style>\n",
       "<table border=\"1\" class=\"dataframe\">\n",
       "  <thead>\n",
       "    <tr style=\"text-align: right;\">\n",
       "      <th></th>\n",
       "      <th>FF3 CS Premia</th>\n",
       "    </tr>\n",
       "  </thead>\n",
       "  <tbody>\n",
       "    <tr>\n",
       "      <th>MKTBeta</th>\n",
       "      <td>0.101569</td>\n",
       "    </tr>\n",
       "    <tr>\n",
       "      <th>SMBBeta</th>\n",
       "      <td>-0.064615</td>\n",
       "    </tr>\n",
       "    <tr>\n",
       "      <th>HMLBeta</th>\n",
       "      <td>-0.017476</td>\n",
       "    </tr>\n",
       "  </tbody>\n",
       "</table>\n",
       "</div>"
      ],
      "text/plain": [
       "         FF3 CS Premia\n",
       "MKTBeta       0.101569\n",
       "SMBBeta      -0.064615\n",
       "HMLBeta      -0.017476"
      ]
     },
     "execution_count": 41,
     "metadata": {},
     "output_type": "execute_result"
    }
   ],
   "source": [
    "y = FF3Regression['Mean Return']\n",
    "x = FF3Regression[['MKTBeta','SMBBeta','HMLBeta']]\n",
    "FF3RegressionCS = sm.OLS(y,x,missing='drop').fit()\n",
    "FF3_CS_MAE = abs(FF3RegressionCS.resid).mean()\n",
    "FF3_CS_Premia = FF3RegressionCS.params.to_frame(\"FF3 CS Premia\")\n",
    "FF3_CS_Premia"
   ]
  },
  {
   "cell_type": "code",
   "execution_count": 42,
   "id": "4dbb30ca",
   "metadata": {},
   "outputs": [
    {
     "data": {
      "text/html": [
       "<div>\n",
       "<style scoped>\n",
       "    .dataframe tbody tr th:only-of-type {\n",
       "        vertical-align: middle;\n",
       "    }\n",
       "\n",
       "    .dataframe tbody tr th {\n",
       "        vertical-align: top;\n",
       "    }\n",
       "\n",
       "    .dataframe thead th {\n",
       "        text-align: right;\n",
       "    }\n",
       "</style>\n",
       "<table border=\"1\" class=\"dataframe\">\n",
       "  <thead>\n",
       "    <tr style=\"text-align: right;\">\n",
       "      <th></th>\n",
       "      <th>FF5 CS Premia</th>\n",
       "    </tr>\n",
       "  </thead>\n",
       "  <tbody>\n",
       "    <tr>\n",
       "      <th>MKTBeta</th>\n",
       "      <td>0.095697</td>\n",
       "    </tr>\n",
       "    <tr>\n",
       "      <th>SMBBeta</th>\n",
       "      <td>-0.057674</td>\n",
       "    </tr>\n",
       "    <tr>\n",
       "      <th>HMLBeta</th>\n",
       "      <td>-0.033504</td>\n",
       "    </tr>\n",
       "    <tr>\n",
       "      <th>RMWBeta</th>\n",
       "      <td>0.035899</td>\n",
       "    </tr>\n",
       "    <tr>\n",
       "      <th>CMABeta</th>\n",
       "      <td>-0.015156</td>\n",
       "    </tr>\n",
       "  </tbody>\n",
       "</table>\n",
       "</div>"
      ],
      "text/plain": [
       "         FF5 CS Premia\n",
       "MKTBeta       0.095697\n",
       "SMBBeta      -0.057674\n",
       "HMLBeta      -0.033504\n",
       "RMWBeta       0.035899\n",
       "CMABeta      -0.015156"
      ]
     },
     "execution_count": 42,
     "metadata": {},
     "output_type": "execute_result"
    }
   ],
   "source": [
    "y = FF5Regression['Mean Return']\n",
    "x = FF5Regression[['MKTBeta','SMBBeta','HMLBeta','RMWBeta','CMABeta']]\n",
    "FF5RegressionCS = sm.OLS(y,x,missing='drop').fit()\n",
    "FF5_CS_MAE = abs(FF5RegressionCS.resid).mean()\n",
    "FF5_CS_Premia = FF5RegressionCS.params.to_frame(\"FF5 CS Premia\")\n",
    "FF5_CS_Premia"
   ]
  },
  {
   "cell_type": "markdown",
   "id": "500912f8",
   "metadata": {},
   "source": [
    "### (a) Report the time-series premia of the factors (just their sample averages,) and compare to the cross-sectionally estimated premia of the factors. Do they differ substantially?"
   ]
  },
  {
   "cell_type": "code",
   "execution_count": 43,
   "id": "fb05efaf",
   "metadata": {},
   "outputs": [
    {
     "data": {
      "text/html": [
       "<div>\n",
       "<style scoped>\n",
       "    .dataframe tbody tr th:only-of-type {\n",
       "        vertical-align: middle;\n",
       "    }\n",
       "\n",
       "    .dataframe tbody tr th {\n",
       "        vertical-align: top;\n",
       "    }\n",
       "\n",
       "    .dataframe thead th {\n",
       "        text-align: right;\n",
       "    }\n",
       "</style>\n",
       "<table border=\"1\" class=\"dataframe\">\n",
       "  <thead>\n",
       "    <tr style=\"text-align: right;\">\n",
       "      <th></th>\n",
       "      <th>Time Series Premia</th>\n",
       "      <th>AQR CS Premia</th>\n",
       "      <th>FF3 CS Premia</th>\n",
       "      <th>FF5 CS Premia</th>\n",
       "    </tr>\n",
       "  </thead>\n",
       "  <tbody>\n",
       "    <tr>\n",
       "      <th>MKTBeta</th>\n",
       "      <td>0.084562</td>\n",
       "      <td>0.087644</td>\n",
       "      <td>0.101569</td>\n",
       "      <td>0.095697</td>\n",
       "    </tr>\n",
       "    <tr>\n",
       "      <th>SMBBeta</th>\n",
       "      <td>0.011206</td>\n",
       "      <td></td>\n",
       "      <td>-0.064615</td>\n",
       "      <td>-0.057674</td>\n",
       "    </tr>\n",
       "    <tr>\n",
       "      <th>HMLBeta</th>\n",
       "      <td>0.025324</td>\n",
       "      <td>-0.039757</td>\n",
       "      <td>-0.017476</td>\n",
       "      <td>-0.033504</td>\n",
       "    </tr>\n",
       "    <tr>\n",
       "      <th>RMWBeta</th>\n",
       "      <td>0.046525</td>\n",
       "      <td>0.044399</td>\n",
       "      <td></td>\n",
       "      <td>0.035899</td>\n",
       "    </tr>\n",
       "    <tr>\n",
       "      <th>CMABeta</th>\n",
       "      <td>0.032492</td>\n",
       "      <td></td>\n",
       "      <td></td>\n",
       "      <td>-0.015156</td>\n",
       "    </tr>\n",
       "    <tr>\n",
       "      <th>UMDBeta</th>\n",
       "      <td>0.060925</td>\n",
       "      <td>0.053375</td>\n",
       "      <td></td>\n",
       "      <td></td>\n",
       "    </tr>\n",
       "  </tbody>\n",
       "</table>\n",
       "</div>"
      ],
      "text/plain": [
       "         Time Series Premia AQR CS Premia FF3 CS Premia FF5 CS Premia\n",
       "MKTBeta            0.084562      0.087644      0.101569      0.095697\n",
       "SMBBeta            0.011206                   -0.064615     -0.057674\n",
       "HMLBeta            0.025324     -0.039757     -0.017476     -0.033504\n",
       "RMWBeta            0.046525      0.044399                    0.035899\n",
       "CMABeta            0.032492                                 -0.015156\n",
       "UMDBeta            0.060925      0.053375                            "
      ]
     },
     "execution_count": 43,
     "metadata": {},
     "output_type": "execute_result"
    }
   ],
   "source": [
    "pd.concat([time_series_premia,AQR_CS_premia,FF3_CS_Premia,FF5_CS_Premia],axis = 1).fillna('')"
   ]
  },
  {
   "cell_type": "markdown",
   "id": "26616183",
   "metadata": {},
   "source": [
    "- The time-series premia and the cross-sectionally estimated premia do not differ substantially except for the `SMB` factor."
   ]
  },
  {
   "cell_type": "markdown",
   "id": "846abc5b",
   "metadata": {},
   "source": [
    "### (b) Report the MAE of the cross-sectional regression residuals for each of the four models, (the υi.) How do they compare to the MAE of the time-series alphas?"
   ]
  },
  {
   "cell_type": "code",
   "execution_count": 44,
   "id": "2633abfe",
   "metadata": {
    "scrolled": false
   },
   "outputs": [
    {
     "data": {
      "text/html": [
       "<div>\n",
       "<style scoped>\n",
       "    .dataframe tbody tr th:only-of-type {\n",
       "        vertical-align: middle;\n",
       "    }\n",
       "\n",
       "    .dataframe tbody tr th {\n",
       "        vertical-align: top;\n",
       "    }\n",
       "\n",
       "    .dataframe thead th {\n",
       "        text-align: right;\n",
       "    }\n",
       "</style>\n",
       "<table border=\"1\" class=\"dataframe\">\n",
       "  <thead>\n",
       "    <tr style=\"text-align: right;\">\n",
       "      <th></th>\n",
       "      <th>Time Series MAE</th>\n",
       "      <th>Cross Section MAE</th>\n",
       "    </tr>\n",
       "  </thead>\n",
       "  <tbody>\n",
       "    <tr>\n",
       "      <th>AQR</th>\n",
       "      <td>0.022995</td>\n",
       "      <td>0.016395</td>\n",
       "    </tr>\n",
       "    <tr>\n",
       "      <th>FF-3</th>\n",
       "      <td>0.024200</td>\n",
       "      <td>0.015031</td>\n",
       "    </tr>\n",
       "    <tr>\n",
       "      <th>FF-5</th>\n",
       "      <td>0.031272</td>\n",
       "      <td>0.012982</td>\n",
       "    </tr>\n",
       "  </tbody>\n",
       "</table>\n",
       "</div>"
      ],
      "text/plain": [
       "      Time Series MAE  Cross Section MAE\n",
       "AQR          0.022995           0.016395\n",
       "FF-3         0.024200           0.015031\n",
       "FF-5         0.031272           0.012982"
      ]
     },
     "execution_count": 44,
     "metadata": {},
     "output_type": "execute_result"
    }
   ],
   "source": [
    "MAE_CS = pd.Series([AQR_CS_MAE,FF3_CS_MAE, FF5_CS_MAE], index = MAE_TS.index)\n",
    "MAE = pd.concat([MAE_TS,MAE_CS],axis = 1)\n",
    "MAE.columns = ['Time Series MAE', 'Cross Section MAE']\n",
    "MAE"
   ]
  },
  {
   "cell_type": "markdown",
   "id": "a85e8b19",
   "metadata": {},
   "source": [
    "- The MAE of cross-sectional regression residuals are generally lower than that of time-series alphas"
   ]
  }
 ],
 "metadata": {
  "kernelspec": {
   "display_name": "Python 3 (ipykernel)",
   "language": "python",
   "name": "python3"
  },
  "language_info": {
   "codemirror_mode": {
    "name": "ipython",
    "version": 3
   },
   "file_extension": ".py",
   "mimetype": "text/x-python",
   "name": "python",
   "nbconvert_exporter": "python",
   "pygments_lexer": "ipython3",
   "version": "3.11.4"
  }
 },
 "nbformat": 4,
 "nbformat_minor": 5
}
