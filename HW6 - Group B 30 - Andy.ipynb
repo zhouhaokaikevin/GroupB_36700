{
 "cells": [
  {
   "cell_type": "markdown",
   "id": "2eebfa09",
   "metadata": {},
   "source": [
    "# Imports"
   ]
  },
  {
   "cell_type": "code",
   "execution_count": 2,
   "id": "9faa3835",
   "metadata": {
    "collapsed": true
   },
   "outputs": [
    {
     "name": "stdout",
     "output_type": "stream",
     "text": [
      "Collecting pandas_datareader\n",
      "  Downloading pandas_datareader-0.10.0-py3-none-any.whl (109 kB)\n",
      "     ---------------------------------------- 0.0/109.5 kB ? eta -:--:--\n",
      "     ----------------------------------- -- 102.4/109.5 kB 3.0 MB/s eta 0:00:01\n",
      "     -------------------------------------- 109.5/109.5 kB 2.2 MB/s eta 0:00:00\n",
      "Requirement already satisfied: lxml in c:\\users\\25442\\anaconda3\\lib\\site-packages (from pandas_datareader) (4.9.2)\n",
      "Requirement already satisfied: pandas>=0.23 in c:\\users\\25442\\anaconda3\\lib\\site-packages (from pandas_datareader) (1.5.3)\n",
      "Requirement already satisfied: requests>=2.19.0 in c:\\users\\25442\\anaconda3\\lib\\site-packages (from pandas_datareader) (2.31.0)\n",
      "Requirement already satisfied: python-dateutil>=2.8.1 in c:\\users\\25442\\anaconda3\\lib\\site-packages (from pandas>=0.23->pandas_datareader) (2.8.2)\n",
      "Requirement already satisfied: pytz>=2020.1 in c:\\users\\25442\\anaconda3\\lib\\site-packages (from pandas>=0.23->pandas_datareader) (2022.7)\n",
      "Requirement already satisfied: numpy>=1.21.0 in c:\\users\\25442\\anaconda3\\lib\\site-packages (from pandas>=0.23->pandas_datareader) (1.24.3)\n",
      "Requirement already satisfied: charset-normalizer<4,>=2 in c:\\users\\25442\\anaconda3\\lib\\site-packages (from requests>=2.19.0->pandas_datareader) (2.0.4)\n",
      "Requirement already satisfied: idna<4,>=2.5 in c:\\users\\25442\\anaconda3\\lib\\site-packages (from requests>=2.19.0->pandas_datareader) (3.4)\n",
      "Requirement already satisfied: urllib3<3,>=1.21.1 in c:\\users\\25442\\anaconda3\\lib\\site-packages (from requests>=2.19.0->pandas_datareader) (1.26.16)\n",
      "Requirement already satisfied: certifi>=2017.4.17 in c:\\users\\25442\\anaconda3\\lib\\site-packages (from requests>=2.19.0->pandas_datareader) (2023.7.22)\n",
      "Requirement already satisfied: six>=1.5 in c:\\users\\25442\\anaconda3\\lib\\site-packages (from python-dateutil>=2.8.1->pandas>=0.23->pandas_datareader) (1.16.0)\n",
      "Installing collected packages: pandas_datareader\n",
      "Successfully installed pandas_datareader-0.10.0\n",
      "Note: you may need to restart the kernel to use updated packages.\n"
     ]
    }
   ],
   "source": [
    "# pip install pandas_datareader"
   ]
  },
  {
   "cell_type": "code",
   "execution_count": 3,
   "id": "a9309a2e",
   "metadata": {},
   "outputs": [],
   "source": [
    "import pandas as pd\n",
    "import numpy as np\n",
    "import scipy.stats as stats\n",
    "from scipy.stats import kurtosis, skew\n",
    "from scipy.stats import norm\n",
    "import seaborn as sns\n",
    "import statsmodels.api as sm\n",
    "from statsmodels.regression.rolling import RollingOLS\n",
    "import pandas_datareader as dr\n",
    "\n",
    "import warnings\n",
    "warnings.filterwarnings(\"ignore\")\n",
    "\n",
    "%matplotlib inline\n",
    "\n",
    "\n",
    "import matplotlib.pyplot as plt\n",
    "plt.rcParams['figure.figsize']=[15, 6]\n",
    "import matplotlib.cm as cm"
   ]
  },
  {
   "cell_type": "markdown",
   "id": "45ffbef6",
   "metadata": {},
   "source": [
    "# Helper Functions"
   ]
  },
  {
   "cell_type": "code",
   "execution_count": 4,
   "id": "5ba5b729",
   "metadata": {},
   "outputs": [],
   "source": [
    "def performance_summary(return_data):\n",
    "    \"\"\" \n",
    "        Returns the Performance Stats for given set of returns\n",
    "        Inputs: \n",
    "            return_data - DataFrame with Date index and Monthly Returns for different assets/strategies.\n",
    "        Output:\n",
    "            summary_stats - DataFrame with annualized mean return, vol, sharpe ratio. Skewness, Excess Kurtosis, Var (0.5) and\n",
    "                            CVaR (0.5) and drawdown based on monthly returns. \n",
    "    \"\"\"\n",
    "    summary_stats = return_data.mean().to_frame('Mean').apply(lambda x: x*12)\n",
    "    summary_stats['Volatility'] = return_data.std().apply(lambda x: x*np.sqrt(12))\n",
    "    summary_stats['Sharpe Ratio'] = summary_stats['Mean']/summary_stats['Volatility']\n",
    "    \n",
    "    summary_stats['Skewness'] = return_data.skew()\n",
    "    summary_stats['Excess Kurtosis'] = return_data.kurtosis()\n",
    "    summary_stats['VaR (0.5)'] = return_data.quantile(.05, axis = 0)\n",
    "    summary_stats['CVaR (0.5)'] = return_data[return_data <= return_data.quantile(.05, axis = 0)].mean()\n",
    "    \n",
    "    wealth_index = 1000*(1+return_data).cumprod()\n",
    "    previous_peaks = wealth_index.cummax()\n",
    "    drawdowns = (wealth_index - previous_peaks)/previous_peaks\n",
    "\n",
    "    summary_stats['Max Drawdown'] = drawdowns.min()\n",
    "    summary_stats['Peak'] = [previous_peaks[col][:drawdowns[col].idxmin()].idxmax() for col in previous_peaks.columns]\n",
    "    summary_stats['Bottom'] = drawdowns.idxmin()\n",
    "    \n",
    "    recovery_date = []\n",
    "    for col in wealth_index.columns:\n",
    "        prev_max = previous_peaks[col][:drawdowns[col].idxmin()].max()\n",
    "        recovery_wealth = pd.DataFrame([wealth_index[col][drawdowns[col].idxmin():]]).T\n",
    "        recovery_date.append(recovery_wealth[recovery_wealth[col] >= prev_max].index.min())\n",
    "    summary_stats['Recovery'] = recovery_date\n",
    "    \n",
    "    return summary_stats"
   ]
  },
  {
   "cell_type": "code",
   "execution_count": 5,
   "id": "d093176a",
   "metadata": {},
   "outputs": [],
   "source": [
    "def regression_based_performance(factor,fund_ret,rf,constant = True):\n",
    "    \"\"\" \n",
    "        Returns the Regression based performance Stats for given set of returns and factors\n",
    "        Inputs:\n",
    "            factor - Dataframe containing monthly returns of the regressors\n",
    "            fund_ret - Dataframe containing monthly excess returns of the regressand fund\n",
    "            rf - Monthly risk free rate of return\n",
    "        Output:\n",
    "            summary_stats - (Beta of regression, treynor ratio, information ratio, alpha). \n",
    "    \"\"\"\n",
    "    if constant:\n",
    "        X = sm.tools.add_constant(factor)\n",
    "    else:\n",
    "        X = factor\n",
    "    y=fund_ret\n",
    "    model = sm.OLS(y,X,missing='drop').fit()\n",
    "    \n",
    "    if constant:\n",
    "        beta = model.params[1:]\n",
    "        alpha = round(float(model.params['const']),6) *12\n",
    "\n",
    "        \n",
    "    else:\n",
    "        beta = model.params\n",
    "    treynor_ratio = ((fund_ret - rf).mean()*12)/beta[0]\n",
    "    tracking_error = (model.resid.std()*np.sqrt(12))\n",
    "    if constant:        \n",
    "        information_ratio = model.params[0]*12/tracking_error\n",
    "    r_squared = model.rsquared\n",
    "    if constant:\n",
    "        return (beta,treynor_ratio,information_ratio,alpha,r_squared,tracking_error,model.resid)\n",
    "    else:\n",
    "        return (beta,treynor_ratio,r_squared,tracking_error,model.resid)"
   ]
  },
  {
   "cell_type": "code",
   "execution_count": 7,
   "id": "3285ddda",
   "metadata": {},
   "outputs": [],
   "source": [
    "def tangency_portfolio_rfr(asset_return,cov_matrix):\n",
    "    \"\"\" \n",
    "        Returns the tangency portfolio weights in a (1 x n) vector when a riskless assset is available\n",
    "        Inputs: \n",
    "            asset_return - Excess return over the risk free rate for each asset (n x 1) Vector\n",
    "            cov_matrix = nxn covariance matrix for the assets\n",
    "    \"\"\"\n",
    "    asset_cov = np.array(cov_matrix)\n",
    "    inverted_cov= np.linalg.inv(asset_cov)\n",
    "    one_vector = np.ones(len(cov_matrix.index))\n",
    "    \n",
    "    den = (one_vector @ inverted_cov) @ (asset_return)\n",
    "    num =  inverted_cov @ asset_return\n",
    "    return (1/den) * num"
   ]
  },
  {
   "cell_type": "markdown",
   "id": "62da8d64",
   "metadata": {},
   "source": [
    "# Reading Data"
   ]
  },
  {
   "cell_type": "code",
   "execution_count": 9,
   "id": "0645e083",
   "metadata": {},
   "outputs": [],
   "source": [
    "ff_factors = pd.read_excel(r'momentum_data.xlsx',sheet_name = 'factors (excess returns)')\n",
    "ff_factors = ff_factors.set_index('Date')"
   ]
  },
  {
   "cell_type": "code",
   "execution_count": 10,
   "id": "20c28205",
   "metadata": {},
   "outputs": [],
   "source": [
    "size_ports = pd.read_excel(r'momentum_data.xlsx',sheet_name = 'size_sorts (total returns)')\n",
    "size_ports = size_ports.set_index('Date')"
   ]
  },
  {
   "cell_type": "code",
   "execution_count": 11,
   "id": "81530bbb",
   "metadata": {},
   "outputs": [],
   "source": [
    "rf = pd.read_excel(r'momentum_data.xlsx',sheet_name = 'risk-free rate')\n",
    "rf = rf.set_index('Date')"
   ]
  },
  {
   "cell_type": "code",
   "execution_count": 12,
   "id": "db0fde1b",
   "metadata": {},
   "outputs": [],
   "source": [
    "mom_deciles = pd.read_excel(r'momentum_data.xlsx',sheet_name = 'deciles (total returns)')\n",
    "mom_deciles = mom_deciles.set_index('Date')"
   ]
  },
  {
   "cell_type": "code",
   "execution_count": 13,
   "id": "f6ac168a",
   "metadata": {},
   "outputs": [],
   "source": [
    "momentum = pd.read_excel(r'momentum_data.xlsx',sheet_name = 'momentum (excess returns)')\n",
    "momentum = momentum.set_index('Date')\n",
    "\n",
    "ff_factors['UMD'] = momentum['UMD']"
   ]
  },
  {
   "cell_type": "markdown",
   "id": "028a975f",
   "metadata": {},
   "source": [
    "## 2) Investigating Momentum\n",
    "\n",
    "#### In this section, we empirically investigate some concerns regarding AQR’s new momentum product.\n",
    "\n",
    "#### On GitHub, find the data file, “momentum data.xlsx”.\n",
    "\n",
    "\n",
    "- #### The third tab contains the momentum factor as an excess return: $\\tilde{r}^{mom}$\n",
    "\n",
    "\n",
    "- #### The fourth tab contains returns on portfolios corresponding to scored momentum deciles.\n",
    "    - #### $\\tilde{r}^{mom(1)}$ denotes the portfolio of stocks in the lowest momentum decile, the “losers” with the lowest past returns.\n",
    "    - #### $\\tilde{r}^{mom(10)}$ denotes the portfolio of stocks in the highest momentum decile.\n",
    "\n",
    "\n",
    "- #### The fifth tab gives portfolios sorted by momentum and size.\n",
    "    - #### $\\tilde{r}^{momSU}$ denotes the portfolio of small stocks in the top 3 deciles of momentum scores.\n",
    "    - #### $\\tilde{r}^{momBD}$ denotes the portfolio of big-stocks in the bottom 3 deciles of momentum scores.\n",
    "\n",
    "\n",
    "#### Note that the Fama-French momentum return, $\\tilde{r}^{mom:FF}$, given in the third tab, is constructed by FF as,\n",
    "\n",
    "\n",
    "#### $$\\tilde{r}^{mom:FF} = \\frac{1}{2} (\\tilde{r}^{momBU} + \\tilde{r}^{momSU}) − \\frac{1}{2} (\\tilde{r}^{momBD} + \\tilde{r}^{momSD}) $$"
   ]
  },
  {
   "cell_type": "markdown",
   "id": "df431c47",
   "metadata": {},
   "source": [
    "### 2.1.a) Is momentum still profitable?\n",
    "\n",
    "The excess returns of lucrative trading strategies often disappear once the strategy is well-known. The first widely-cited paper on momentum was published in 1993. Have momentum returns or risk changed since then? The AQR case takes place at the end of 2008. Have momentum returns changed in 2009-2023?\n",
    "\n",
    "\n",
    "Investigate by filling out the summary statistics below for the full-sample and three sub-samples.\n",
    "\n",
    "(a) Using the data provided, fill in Table 1 with the appropriate stats for $\\tilde{r}^{mom:FF}$\n",
    "\n",
    "|<caption>Table 1: Momentum performance over time.</caption>|Subsample|mean|vol|Sharpe|Skewness|corr. to $\\tilde{r}^m$|corr. to $\\tilde{r}^v$|\n",
    "|------------------------:|------------------------:|-----------------------:|------------------------:|-----------------------:|------------------------:|-----------------------:|-----------------------:|\n",
    "|1927 - 2023|||||||||\n",
    "|1927 - 1993|||||||||\n",
    "|1994 - 2008|||||||||\n",
    "|2009 - 2023|||||||||\n"
   ]
  },
  {
   "cell_type": "code",
   "execution_count": 15,
   "id": "1a0a499e",
   "metadata": {},
   "outputs": [
    {
     "data": {
      "text/html": [
       "<div>\n",
       "<style scoped>\n",
       "    .dataframe tbody tr th:only-of-type {\n",
       "        vertical-align: middle;\n",
       "    }\n",
       "\n",
       "    .dataframe tbody tr th {\n",
       "        vertical-align: top;\n",
       "    }\n",
       "\n",
       "    .dataframe thead th {\n",
       "        text-align: right;\n",
       "    }\n",
       "</style>\n",
       "<table border=\"1\" class=\"dataframe\">\n",
       "  <thead>\n",
       "    <tr style=\"text-align: right;\">\n",
       "      <th></th>\n",
       "      <th>Mean</th>\n",
       "      <th>Volatility</th>\n",
       "      <th>Sharpe Ratio</th>\n",
       "      <th>Skewness</th>\n",
       "      <th>Corr Mkt</th>\n",
       "      <th>Corr Val</th>\n",
       "    </tr>\n",
       "  </thead>\n",
       "  <tbody>\n",
       "    <tr>\n",
       "      <th>1927-2023</th>\n",
       "      <td>0.074791</td>\n",
       "      <td>0.163069</td>\n",
       "      <td>0.458647</td>\n",
       "      <td>-2.992077</td>\n",
       "      <td>-0.346337</td>\n",
       "      <td>-0.404836</td>\n",
       "    </tr>\n",
       "    <tr>\n",
       "      <th>1927-1993</th>\n",
       "      <td>0.090113</td>\n",
       "      <td>0.159991</td>\n",
       "      <td>0.563242</td>\n",
       "      <td>-3.808977</td>\n",
       "      <td>-0.362537</td>\n",
       "      <td>-0.494960</td>\n",
       "    </tr>\n",
       "    <tr>\n",
       "      <th>1994-2008</th>\n",
       "      <td>0.104373</td>\n",
       "      <td>0.175551</td>\n",
       "      <td>0.594548</td>\n",
       "      <td>-0.582038</td>\n",
       "      <td>-0.234519</td>\n",
       "      <td>-0.129402</td>\n",
       "    </tr>\n",
       "    <tr>\n",
       "      <th>2009-2023</th>\n",
       "      <td>-0.026030</td>\n",
       "      <td>0.161623</td>\n",
       "      <td>-0.161052</td>\n",
       "      <td>-2.698287</td>\n",
       "      <td>-0.385511</td>\n",
       "      <td>-0.309380</td>\n",
       "    </tr>\n",
       "  </tbody>\n",
       "</table>\n",
       "</div>"
      ],
      "text/plain": [
       "               Mean  Volatility  Sharpe Ratio  Skewness  Corr Mkt  Corr Val\n",
       "1927-2023  0.074791    0.163069      0.458647 -2.992077 -0.346337 -0.404836\n",
       "1927-1993  0.090113    0.159991      0.563242 -3.808977 -0.362537 -0.494960\n",
       "1994-2008  0.104373    0.175551      0.594548 -0.582038 -0.234519 -0.129402\n",
       "2009-2023 -0.026030    0.161623     -0.161052 -2.698287 -0.385511 -0.309380"
      ]
     },
     "execution_count": 15,
     "metadata": {},
     "output_type": "execute_result"
    }
   ],
   "source": [
    "sub_samples = {\n",
    "              '1927-2023' : ['1927','2023'],\n",
    "              '1927-1993' : ['1927','1993'],\n",
    "              '1994-2008' : ['1994','2008'],\n",
    "              '2009-2023' : ['2009','2023']\n",
    "              }\n",
    "\n",
    "mom_sum = []\n",
    "for k,v in sub_samples.items():\n",
    "    sub_mom = momentum.loc[sub_samples[k][0]:sub_samples[k][1]]\n",
    "    sub_ff = ff_factors.loc[sub_samples[k][0]:sub_samples[k][1]]\n",
    "    mom_summary = performance_summary(sub_mom)\n",
    "    mom_summary = mom_summary.loc[:,['Mean','Volatility','Sharpe Ratio','Skewness']]\n",
    "    mom_summary['Corr Mkt'] = sub_ff.corr().loc['MKT',['UMD']]\n",
    "    mom_summary['Corr Val'] = sub_ff.corr().loc['HML',['UMD']]\n",
    "    mom_summary.index = [k]\n",
    "    mom_sum.append(mom_summary)\n",
    "\n",
    "mom_summary = pd.concat(mom_sum)\n",
    "mom_summary"
   ]
  },
  {
   "cell_type": "markdown",
   "id": "6f5d652c",
   "metadata": {},
   "source": [
    "### 2.1.b) Has momentum changed much over time, as seen through these subsample statistics?\n",
    "\n",
    "- Before 2009, the momentum strategy posted significant positive returns. After the AQR case, the momentum strategy turned negtaive annual returns and negative Sharpe ratio from 2009 to 2023. This might be the result of making the strategy well-known, financial crisis, and Covid crisis."
   ]
  },
  {
   "cell_type": "markdown",
   "id": "6debcc4e",
   "metadata": {},
   "source": [
    "### 2.1.c) Does this data support AQR's argument that momentum is an important piece of the ideal portfolio? What if mean returns to momentum are in actuality near zero due to transaction costs - would there still be evidence here that momentum is valuable?\n",
    "\n",
    "- If the post-fee return is nearly 0%, the momentum factor might not contribute additional excess return to the portfolio. However, throughout all the periods, the momentum strategy displays negative correlations with Market factor and Value factor, making it still an worthy factor in terms of diversification and shifting the efficient frontier."
   ]
  },
  {
   "cell_type": "markdown",
   "id": "3e90877f",
   "metadata": {},
   "source": [
    "### 2.2) The case is about whether a long-only implementation of momentum is valuable.\n",
    "\n",
    "#### Construct your own long-only implementation:\n",
    "\n",
    "#### $$\\tilde{r}^{momU:FF} = \\frac{1}{2} (\\tilde{r}^{momBU} + \\tilde{r}^{momSU}) − r^f $$\n",
    "\n",
    "#### Note that this is following the FF approach of treating big and small stocks separately. This would be very similar to a scaled version of,\n",
    "\n",
    "#### $$\\tilde{r}^{momU} = \\frac{1}{3} (\\tilde{r}^{mom(8)} + \\tilde{r}^{mom(9)} + \\tilde{r}^{mom(10)}) − r^f $$\n",
    "\n",
    "\n",
    "#### For the question below, use the FF-style $\\tilde{r}^{momU:FF}_t$\n",
    "\n",
    "\n",
    "### 2.2.a) Fill out Table 2 for the data in the period 1994-2023.\n",
    "\n",
    "\n",
    "|<caption>Table 2: Long-only momentum performance.</caption>|1994-2023|mean|vol|Sharpe|Skewness|corr. to $\\tilde{r}^m$|corr. to $\\tilde{r}^v$|\n",
    "|------------------------:|-----------------------:|------------------------:|-----------------------:|------------------------:|-----------------------:|-----------------------:|-----------------------:|\n",
    "|Long-and-short, $\\tilde{r}^{mom:FF}$|||||||||\n",
    "|Long only, $\\tilde{r}^{momU:FF}$|||||||||\n"
   ]
  },
  {
   "cell_type": "code",
   "execution_count": 16,
   "id": "751b9eeb",
   "metadata": {},
   "outputs": [],
   "source": [
    "mom_rtn_long = pd.DataFrame(((1/2*(size_ports['BIG HiPRIOR'] + size_ports['SMALL HiPRIOR']))-rf['RF']),columns = ['UMD'])\n",
    "\n",
    "ff_long = ff_factors.copy()\n",
    "ff_long['UMD'] = mom_rtn_long['UMD']\n",
    "mom_rtn_long_summary = performance_summary(mom_rtn_long['1994':])\n",
    "mom_rtn_long_summary = mom_rtn_long_summary.loc[:,['Mean','Volatility','Sharpe Ratio','Skewness']]\n",
    "mom_rtn_long_summary['Corr Mkt'] = ff_long.loc['1994':].corr().loc['MKT',['UMD']]\n",
    "mom_rtn_long_summary['Corr Val'] = ff_long.loc['1994':].corr().loc['HML',['UMD']]\n",
    "mom_rtn_long_summary.index = ['Long Only']\n",
    "\n"
   ]
  },
  {
   "cell_type": "code",
   "execution_count": 17,
   "id": "761f093f",
   "metadata": {},
   "outputs": [],
   "source": [
    "mom_rtn_long_short = pd.DataFrame((1/2*((size_ports['BIG HiPRIOR'] + size_ports['SMALL HiPRIOR']) \n",
    "                              - (size_ports['BIG LoPRIOR'] + size_ports['SMALL LoPRIOR']))),columns = ['UMD'])\n",
    "ff_long_short = ff_factors.copy()\n",
    "ff_long_short['UMD'] = mom_rtn_long_short['UMD']\n",
    "mom_rtn_long_short_summary = performance_summary(mom_rtn_long_short['1994':])\n",
    "mom_rtn_long_short_summary = mom_rtn_long_short_summary.loc[:,['Mean','Volatility','Sharpe Ratio','Skewness']]\n",
    "mom_rtn_long_short_summary['Corr Mkt'] = ff_long_short.loc['1994':].corr().loc['MKT',['UMD']]\n",
    "mom_rtn_long_short_summary['Corr Val'] = ff_long_short.loc['1994':].corr().loc['HML',['UMD']]\n",
    "mom_rtn_long_short_summary.index = ['Long and Short']"
   ]
  },
  {
   "cell_type": "code",
   "execution_count": 18,
   "id": "1e429660",
   "metadata": {},
   "outputs": [
    {
     "data": {
      "text/html": [
       "<div>\n",
       "<style scoped>\n",
       "    .dataframe tbody tr th:only-of-type {\n",
       "        vertical-align: middle;\n",
       "    }\n",
       "\n",
       "    .dataframe tbody tr th {\n",
       "        vertical-align: top;\n",
       "    }\n",
       "\n",
       "    .dataframe thead th {\n",
       "        text-align: right;\n",
       "    }\n",
       "</style>\n",
       "<table border=\"1\" class=\"dataframe\">\n",
       "  <thead>\n",
       "    <tr style=\"text-align: right;\">\n",
       "      <th></th>\n",
       "      <th>Mean</th>\n",
       "      <th>Volatility</th>\n",
       "      <th>Sharpe Ratio</th>\n",
       "      <th>Skewness</th>\n",
       "      <th>Corr Mkt</th>\n",
       "      <th>Corr Val</th>\n",
       "    </tr>\n",
       "  </thead>\n",
       "  <tbody>\n",
       "    <tr>\n",
       "      <th>Long and Short</th>\n",
       "      <td>0.040078</td>\n",
       "      <td>0.169639</td>\n",
       "      <td>0.236256</td>\n",
       "      <td>-1.437502</td>\n",
       "      <td>-0.313551</td>\n",
       "      <td>-0.206171</td>\n",
       "    </tr>\n",
       "    <tr>\n",
       "      <th>Long Only</th>\n",
       "      <td>0.115447</td>\n",
       "      <td>0.178350</td>\n",
       "      <td>0.647306</td>\n",
       "      <td>-0.463528</td>\n",
       "      <td>0.901697</td>\n",
       "      <td>-0.130850</td>\n",
       "    </tr>\n",
       "  </tbody>\n",
       "</table>\n",
       "</div>"
      ],
      "text/plain": [
       "                    Mean  Volatility  Sharpe Ratio  Skewness  Corr Mkt  \\\n",
       "Long and Short  0.040078    0.169639      0.236256 -1.437502 -0.313551   \n",
       "Long Only       0.115447    0.178350      0.647306 -0.463528  0.901697   \n",
       "\n",
       "                Corr Val  \n",
       "Long and Short -0.206171  \n",
       "Long Only      -0.130850  "
      ]
     },
     "execution_count": 18,
     "metadata": {},
     "output_type": "execute_result"
    }
   ],
   "source": [
    "\n",
    "pdList = [mom_rtn_long_short_summary,mom_rtn_long_summary]\n",
    "mom_comparison = pd.concat(pdList)\n",
    "mom_comparison"
   ]
  },
  {
   "cell_type": "markdown",
   "id": "6c8b8979",
   "metadata": {},
   "source": [
    "### 2.2.b) Is long-only momentum as attractive as long-short momentum with respect to mean, volatility, and Sharpe Ratio?\n",
    "\n",
    "- The long-only momentum strategy is more attractive than long-short momentum in terms of higher return, Sharpe ratio, and similar volatility."
   ]
  },
  {
   "cell_type": "markdown",
   "id": "e9496f2e",
   "metadata": {},
   "source": [
    "### 2.2.c) Is long-only momentum as diversifying as long-short momentum with respect to market and value premia?\n",
    "\n",
    "- The long-only momentum has higher correlation with the market factor (higher than 0.9). So long-only momentum is less diversifiying comparing to the long-short momentum."
   ]
  },
  {
   "cell_type": "markdown",
   "id": "5c2339ab",
   "metadata": {},
   "source": [
    "### 2.2.d) Show a plot of the cumulative product of 1 + $\\tilde{r}^{mom:FF}$ and 1 + $\\tilde{r}^{momU:FF}$  over the 1994-2023 subsample."
   ]
  },
  {
   "cell_type": "code",
   "execution_count": 24,
   "id": "42e22afb",
   "metadata": {},
   "outputs": [
    {
     "data": {
      "text/plain": [
       "<Axes: xlabel='Date'>"
      ]
     },
     "execution_count": 24,
     "metadata": {},
     "output_type": "execute_result"
    },
    {
     "data": {
      "image/png": "[encoded data removed]",
      "text/plain": [
       "<Figure size 1500x600 with 1 Axes>"
      ]
     },
     "metadata": {},
     "output_type": "display_data"
    }
   ],
   "source": [
    "mom_plot = pd.DataFrame(((1/2*(size_ports['BIG HiPRIOR'] + size_ports['SMALL HiPRIOR']))-rf['RF']),columns = ['Long-Only'])\n",
    "mom_plot['Long-Short'] = 0.5*((size_ports['BIG HiPRIOR'] + size_ports['SMALL HiPRIOR']) \n",
    "                              - (size_ports['BIG LoPRIOR'] + size_ports['SMALL LoPRIOR']))\n",
    "(1+mom_plot['1994':]).cumprod().plot()"
   ]
  },
  {
   "cell_type": "markdown",
   "id": "eb21b24d",
   "metadata": {},
   "source": [
    "### 3) Is momentum just data mining, or is it a robust strategy?\n",
    "\n",
    "#### Assess how sensitive the threshold for the “winners” and “losers” is in the results. Specifically, we compare three constructions:\n",
    "\n",
    "\n",
    "- #### long the top 1 decile and short the bottom 1 deciles:\n",
    "\n",
    "#### $$ \\tilde{r}^{momD1} = r^{mom(10)} - r^{mom(1)}$$\n",
    "\n",
    "\n",
    "- #### long the top 3 deciles and short the bottom 3 deciles:\n",
    "\n",
    "\n",
    "#### $$ \\tilde{r}^{momD3} = \\frac{1}{3}(r^{mom(8)} + r^{mom(9)} + r^{mom(10)}) - \\frac{1}{3} (r^{mom(3)} + r^{mom(2)} + r^{mom(1)}) $$\n",
    "\n",
    "#### $$ \\tilde{r}^{momD3} = \\frac{1}{3}\\sum_{k = 8}^{10} r^{mom(k)} - \\frac{1}{3}\\sum_{k = 1}^{3} r^{mom(k)} $$\n",
    "\n",
    "\n",
    "- #### long the top 5 deciles and short the bottom 5 decile:\n",
    "\n",
    "#### $$ \\tilde{r}^{momD5} = \\frac{1}{5}\\sum_{k = 6}^{10} r^{mom(k)} - \\frac{1}{5}\\sum_{k = 1}^{5} r^{mom(k)} $$"
   ]
  },
  {
   "cell_type": "code",
   "execution_count": 25,
   "id": "d6b7c8b4",
   "metadata": {},
   "outputs": [],
   "source": [
    "mom_top1_decile = pd.DataFrame(mom_deciles['Hi PRIOR'] - mom_deciles['Lo PRIOR'],columns = ['UMD'])\n",
    "mom_top3_decile = pd.DataFrame(1/3*((mom_deciles.loc[:,['PRIOR 8','PRIOR 9','Hi PRIOR']].sum(axis = 1))\n",
    "                                    - (mom_deciles.loc[:,['Lo PRIOR','PRIOR 2','PRIOR 3']].sum(axis = 1))),columns = ['UMD'])\n",
    "\n",
    "mom_top5_decile = pd.DataFrame(1/5*((mom_deciles.loc[:,['PRIOR 6','PRIOR 7','PRIOR 8','PRIOR 9','Hi PRIOR']].sum(axis = 1))\n",
    "                                    - (mom_deciles.loc[:,['Lo PRIOR','PRIOR 2','PRIOR 3','PRIOR 4','PRIOR 5']].sum(axis = 1))),columns = ['UMD'])\n"
   ]
  },
  {
   "cell_type": "markdown",
   "id": "3869e3e9",
   "metadata": {},
   "source": [
    "### 2.3.a) Compare all three constructions, (in the full-sample period,) by filling out the stats in the table below for the period 1994-2023.\n",
    "\n",
    "|<caption>Table 3: Robustness of momentum construction.</caption>|1994-2023|mean|vol|Sharpe|Skewness|corr. to $\\tilde{r}^m$|corr. to $\\tilde{r}^v$|\n",
    "|------------------------:|-----------------------:|------------------------:|-----------------------:|------------------------:|-----------------------:|-----------------------:|-----------------------:|\n",
    "|$\\tilde{r}^{momD1}$|||||||||\n",
    "|$\\tilde{r}^{momD3}$|||||||||\n",
    "|$\\tilde{r}^{momD5}$|||||||||"
   ]
  },
  {
   "cell_type": "code",
   "execution_count": 27,
   "id": "4e905462",
   "metadata": {},
   "outputs": [
    {
     "data": {
      "text/html": [
       "<div>\n",
       "<style scoped>\n",
       "    .dataframe tbody tr th:only-of-type {\n",
       "        vertical-align: middle;\n",
       "    }\n",
       "\n",
       "    .dataframe tbody tr th {\n",
       "        vertical-align: top;\n",
       "    }\n",
       "\n",
       "    .dataframe thead th {\n",
       "        text-align: right;\n",
       "    }\n",
       "</style>\n",
       "<table border=\"1\" class=\"dataframe\">\n",
       "  <thead>\n",
       "    <tr style=\"text-align: right;\">\n",
       "      <th></th>\n",
       "      <th>Mean</th>\n",
       "      <th>Volatility</th>\n",
       "      <th>Sharpe Ratio</th>\n",
       "      <th>Skewness</th>\n",
       "      <th>Corr Mkt</th>\n",
       "      <th>Corr Val</th>\n",
       "    </tr>\n",
       "  </thead>\n",
       "  <tbody>\n",
       "    <tr>\n",
       "      <th>Momentum Top 1 Decile</th>\n",
       "      <td>0.074873</td>\n",
       "      <td>0.298583</td>\n",
       "      <td>0.250762</td>\n",
       "      <td>-1.307240</td>\n",
       "      <td>-0.329943</td>\n",
       "      <td>-0.214096</td>\n",
       "    </tr>\n",
       "    <tr>\n",
       "      <th>Momentum Top 3 Decile</th>\n",
       "      <td>0.024814</td>\n",
       "      <td>0.194199</td>\n",
       "      <td>0.127774</td>\n",
       "      <td>-1.350529</td>\n",
       "      <td>-0.370049</td>\n",
       "      <td>-0.194311</td>\n",
       "    </tr>\n",
       "    <tr>\n",
       "      <th>Momentum Top 5 Decile</th>\n",
       "      <td>0.013016</td>\n",
       "      <td>0.134476</td>\n",
       "      <td>0.096792</td>\n",
       "      <td>-1.428013</td>\n",
       "      <td>-0.359342</td>\n",
       "      <td>-0.194664</td>\n",
       "    </tr>\n",
       "  </tbody>\n",
       "</table>\n",
       "</div>"
      ],
      "text/plain": [
       "                           Mean  Volatility  Sharpe Ratio  Skewness  Corr Mkt  \\\n",
       "Momentum Top 1 Decile  0.074873    0.298583      0.250762 -1.307240 -0.329943   \n",
       "Momentum Top 3 Decile  0.024814    0.194199      0.127774 -1.350529 -0.370049   \n",
       "Momentum Top 5 Decile  0.013016    0.134476      0.096792 -1.428013 -0.359342   \n",
       "\n",
       "                       Corr Val  \n",
       "Momentum Top 1 Decile -0.214096  \n",
       "Momentum Top 3 Decile -0.194311  \n",
       "Momentum Top 5 Decile -0.194664  "
      ]
     },
     "execution_count": 27,
     "metadata": {},
     "output_type": "execute_result"
    }
   ],
   "source": [
    "samples = {'Momentum Top 1 Decile':mom_top1_decile\n",
    "          ,'Momentum Top 3 Decile':mom_top3_decile\n",
    "          ,'Momentum Top 5 Decile':mom_top5_decile}\n",
    "\n",
    "mom_deciles = []\n",
    "for k,v in samples.items():\n",
    "    ff = ff_factors.copy()\n",
    "    ff['UMD'] = v['UMD']\n",
    "    mom_decile_summary = performance_summary(v['1994':])\n",
    "    mom_decile_summary = mom_decile_summary.loc[:,['Mean','Volatility','Sharpe Ratio','Skewness']]\n",
    "    mom_decile_summary['Corr Mkt'] = ff.loc['1994':'2023'].corr().loc['MKT',['UMD']]\n",
    "    mom_decile_summary['Corr Val'] = ff.loc['1994':'2023'].corr().loc['HML',['UMD']]\n",
    "    mom_decile_summary.index = [k]\n",
    "    mom_deciles.append(mom_decile_summary)\n",
    "\n",
    "mom_deciles_df = pd.concat(mom_deciles)\n",
    "mom_deciles_df"
   ]
  },
  {
   "cell_type": "markdown",
   "id": "5e12a0ca",
   "metadata": {},
   "source": [
    "### 2.3.b) Do the tradeoffs between the 1-decile, 3-decile, and 5-decile constructions line up with the theoretical tradeoffs we discussed in the lecture?\n",
    "\n",
    "- The performance of the Top 1 Decile is the best in terms of return and Sharpe ratio. However, this strategy also has higher concentration in individual securities and therefore higher idiosyncratic risk. Empirically, it also shows that straegies with fewer deciles have higher volatility."
   ]
  },
  {
   "cell_type": "markdown",
   "id": "2b57979c",
   "metadata": {},
   "source": [
    "### 2.3.c) Should AQR's retail product consider using a 1-decile or 5-decile construction?\n",
    "\n",
    "With much higher risk adjusted returns and Sharpe ratio, and similar correaltion with the Market factor and Value factor, AQR's retail product should consider using the 1-decile construction."
   ]
  },
  {
   "cell_type": "markdown",
   "id": "aa49cafe",
   "metadata": {},
   "source": [
    "### 2.3.d) Does $\\tilde{r}^{momD3}$ have similar stats to the Fama-French construction in (1). Recall that construction is also a 3-decile, long-short construction, but it is segmented for small and large stocks. Compare the middle row of Table 3 with the top row of Table 2.\n",
    "\n",
    "- The long-short momentum from Fama-French construction performs slightly better than the Top-3 Decile momentum in terms of return and Sharpe ratio. On the other hand, they have very similar correlations with the Market factor and Value factor."
   ]
  },
  {
   "cell_type": "code",
   "execution_count": 28,
   "id": "dfd30952",
   "metadata": {},
   "outputs": [
    {
     "data": {
      "text/html": [
       "<div>\n",
       "<style scoped>\n",
       "    .dataframe tbody tr th:only-of-type {\n",
       "        vertical-align: middle;\n",
       "    }\n",
       "\n",
       "    .dataframe tbody tr th {\n",
       "        vertical-align: top;\n",
       "    }\n",
       "\n",
       "    .dataframe thead th {\n",
       "        text-align: right;\n",
       "    }\n",
       "</style>\n",
       "<table border=\"1\" class=\"dataframe\">\n",
       "  <thead>\n",
       "    <tr style=\"text-align: right;\">\n",
       "      <th></th>\n",
       "      <th>Mean</th>\n",
       "      <th>Volatility</th>\n",
       "      <th>Sharpe Ratio</th>\n",
       "      <th>Skewness</th>\n",
       "      <th>Corr Mkt</th>\n",
       "      <th>Corr Val</th>\n",
       "    </tr>\n",
       "  </thead>\n",
       "  <tbody>\n",
       "    <tr>\n",
       "      <th>Long and Short</th>\n",
       "      <td>0.040078</td>\n",
       "      <td>0.169639</td>\n",
       "      <td>0.236256</td>\n",
       "      <td>-1.437502</td>\n",
       "      <td>-0.313551</td>\n",
       "      <td>-0.206171</td>\n",
       "    </tr>\n",
       "    <tr>\n",
       "      <th>Momentum Top 3 Decile</th>\n",
       "      <td>0.024814</td>\n",
       "      <td>0.194199</td>\n",
       "      <td>0.127774</td>\n",
       "      <td>-1.350529</td>\n",
       "      <td>-0.370049</td>\n",
       "      <td>-0.194311</td>\n",
       "    </tr>\n",
       "  </tbody>\n",
       "</table>\n",
       "</div>"
      ],
      "text/plain": [
       "                           Mean  Volatility  Sharpe Ratio  Skewness  Corr Mkt  \\\n",
       "Long and Short         0.040078    0.169639      0.236256 -1.437502 -0.313551   \n",
       "Momentum Top 3 Decile  0.024814    0.194199      0.127774 -1.350529 -0.370049   \n",
       "\n",
       "                       Corr Val  \n",
       "Long and Short        -0.206171  \n",
       "Momentum Top 3 Decile -0.194311  "
      ]
     },
     "execution_count": 28,
     "metadata": {},
     "output_type": "execute_result"
    }
   ],
   "source": [
    "pd.concat([mom_rtn_long_short_summary,mom_deciles_df.loc['Momentum Top 3 Decile'].to_frame().T])"
   ]
  },
  {
   "cell_type": "markdown",
   "id": "cefb30ad",
   "metadata": {},
   "source": [
    "### 4. Does implementing momentum require trading lots of small stocks-- thus causing even larger trading costs?\n",
    "\n",
    "#### For regulatory and liquidity reasons, AQR is particularly interested in using larger stocks for their momentum baskets. (Though they will launch one product that focuses on medium-sized stocks.)\n",
    "#### Use the data provided on both small-stock “winners”, $r^{momSU}$, and small-stock “losers”, $r^{momSD}$, to construct a small-stock momentum portfolio,\n",
    "\n",
    "#### $$ r^{momS}_t = r^{momSU}_t - r^{momSD}_t $$\n",
    "\n",
    "#### Similarly, use the data provided to construct a big-stock momentum portfolio,\n",
    "\n",
    "#### $$ r^{momB}_t = r^{momBU}_t − r^{momBD}_t $$"
   ]
  },
  {
   "cell_type": "markdown",
   "id": "6a2abb77",
   "metadata": {},
   "source": [
    "### 2.4.a) Fill out Table 4 over the sample 1994-2023.\n",
    "\n",
    "\n",
    "|<caption>Table 4: Momentum of small and big stocks.</caption>|1994-2023|mean|vol|Sharpe|Skewness|corr. to $\\tilde{r}^m$|corr. to $\\tilde{r}^v$|\n",
    "|------------------------:|-----------------------:|------------------------:|-----------------------:|------------------------:|-----------------------:|-----------------------:|-----------------------:|\n",
    "|All stocks, $\\tilde{r}^{mom:FF}_t$|||||||||\n",
    "|Small stocks, $\\tilde{r}^{momS}_t$|||||||||\n",
    "|Large stocks, $\\tilde{r}^{momB}_t$|||||||||\n",
    "\n"
   ]
  },
  {
   "cell_type": "code",
   "execution_count": 29,
   "id": "f04ca5a7",
   "metadata": {},
   "outputs": [],
   "source": [
    "mom_small = pd.DataFrame((size_ports['SMALL HiPRIOR'] - size_ports['SMALL LoPRIOR']),columns = ['UMD'])\n",
    "mom_large = pd.DataFrame((size_ports['BIG HiPRIOR'] - size_ports['BIG LoPRIOR']),columns = ['UMD'])"
   ]
  },
  {
   "cell_type": "code",
   "execution_count": 30,
   "id": "19220f39",
   "metadata": {},
   "outputs": [
    {
     "data": {
      "text/html": [
       "<div>\n",
       "<style scoped>\n",
       "    .dataframe tbody tr th:only-of-type {\n",
       "        vertical-align: middle;\n",
       "    }\n",
       "\n",
       "    .dataframe tbody tr th {\n",
       "        vertical-align: top;\n",
       "    }\n",
       "\n",
       "    .dataframe thead th {\n",
       "        text-align: right;\n",
       "    }\n",
       "</style>\n",
       "<table border=\"1\" class=\"dataframe\">\n",
       "  <thead>\n",
       "    <tr style=\"text-align: right;\">\n",
       "      <th></th>\n",
       "      <th>Mean</th>\n",
       "      <th>Volatility</th>\n",
       "      <th>Sharpe Ratio</th>\n",
       "      <th>Skewness</th>\n",
       "      <th>Corr Mkt</th>\n",
       "      <th>Corr Val</th>\n",
       "    </tr>\n",
       "  </thead>\n",
       "  <tbody>\n",
       "    <tr>\n",
       "      <th>Long and Short</th>\n",
       "      <td>0.040078</td>\n",
       "      <td>0.169639</td>\n",
       "      <td>0.236256</td>\n",
       "      <td>-1.437502</td>\n",
       "      <td>-0.313551</td>\n",
       "      <td>-0.206171</td>\n",
       "    </tr>\n",
       "    <tr>\n",
       "      <th>Small Stocks</th>\n",
       "      <td>0.059358</td>\n",
       "      <td>0.171924</td>\n",
       "      <td>0.345256</td>\n",
       "      <td>-1.744008</td>\n",
       "      <td>-0.309153</td>\n",
       "      <td>-0.146270</td>\n",
       "    </tr>\n",
       "    <tr>\n",
       "      <th>Large Stocks</th>\n",
       "      <td>0.020799</td>\n",
       "      <td>0.183927</td>\n",
       "      <td>0.113082</td>\n",
       "      <td>-0.877121</td>\n",
       "      <td>-0.289410</td>\n",
       "      <td>-0.243587</td>\n",
       "    </tr>\n",
       "  </tbody>\n",
       "</table>\n",
       "</div>"
      ],
      "text/plain": [
       "                    Mean  Volatility  Sharpe Ratio  Skewness  Corr Mkt  \\\n",
       "Long and Short  0.040078    0.169639      0.236256 -1.437502 -0.313551   \n",
       "Small Stocks    0.059358    0.171924      0.345256 -1.744008 -0.309153   \n",
       "Large Stocks    0.020799    0.183927      0.113082 -0.877121 -0.289410   \n",
       "\n",
       "                Corr Val  \n",
       "Long and Short -0.206171  \n",
       "Small Stocks   -0.146270  \n",
       "Large Stocks   -0.243587  "
      ]
     },
     "execution_count": 30,
     "metadata": {},
     "output_type": "execute_result"
    }
   ],
   "source": [
    "samples = {'Small Stocks':mom_small\n",
    "          ,'Large Stocks':mom_large}\n",
    "\n",
    "mom_size = []\n",
    "for k,v in samples.items():\n",
    "    ff = ff_factors.copy()\n",
    "    ff['UMD'] = v['UMD']\n",
    "    mom_size_summary = performance_summary(v['1994':])\n",
    "    mom_size_summary = mom_size_summary.loc[:,['Mean','Volatility','Sharpe Ratio','Skewness']]\n",
    "    mom_size_summary['Corr Mkt'] = ff.loc['1994':].corr().loc['MKT',['UMD']]\n",
    "    mom_size_summary['Corr Val'] = ff.loc['1994':].corr().loc['HML',['UMD']]\n",
    "    mom_size_summary.index = [k]\n",
    "    mom_size.append(mom_size_summary)\n",
    "\n",
    "mom_size.insert(0,mom_rtn_long_short_summary)\n",
    "mom_size_df = pd.concat(mom_size)\n",
    "mom_size_df"
   ]
  },
  {
   "cell_type": "markdown",
   "id": "c47167a4",
   "metadata": {},
   "source": [
    "### 2.4.b) Is the attractiveness of the momentum strategy mostly driven by the small stocks? That is, does a momentum strategy in large stocks still deliver excess returns at comparable risk?\n",
    "\n",
    "- Yes, the momentum strategy in small stocks delivers an almost tripled return comparing to the momentum in large stocks while having similar volatility. Therefore the momentum straetegy in small stocks also has higher Sharpe ratio.\n",
    "\n",
    "- On the other hand, small stocks usually have lower liquidity comparing to large stocks, and they often have higher transaction costs such as market impact."
   ]
  },
  {
   "cell_type": "markdown",
   "id": "d5d32ef1",
   "metadata": {},
   "source": [
    "## 2.5) In conclusion, what is your assessment of the AQR retail product? Is it capturing the important features of the Fama-French construction of momentum? Would you suggest any modifications?\n",
    "\n",
    "- For long-short momentum strategies with size bukets, it captures the characteristics of Fama-French's momentum strategy quite well in terms of low correlation with the Market factor and Value factor. However, if AQR is going to use a long-only momentum strategy, that will likely produce a high systematic correlation with the market, and hence reducing the value of diversification.\n",
    "- Therefore, instead of creating the product in a mutual fund scheme, it might be helpful to launch it as an ETF, which would allow AQR to implement its long-short momentum strategy, making its product more attractive due to low systematic correlation."
   ]
  }
 ],
 "metadata": {
  "kernelspec": {
   "display_name": "Python 3 (ipykernel)",
   "language": "python",
   "name": "python3"
  },
  "language_info": {
   "codemirror_mode": {
    "name": "ipython",
    "version": 3
   },
   "file_extension": ".py",
   "mimetype": "text/x-python",
   "name": "python",
   "nbconvert_exporter": "python",
   "pygments_lexer": "ipython3",
   "version": "3.11.4"
  }
 },
 "nbformat": 4,
 "nbformat_minor": 5
}
